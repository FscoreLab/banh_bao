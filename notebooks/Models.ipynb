{
 "cells": [
  {
   "cell_type": "code",
   "execution_count": 1,
   "metadata": {},
   "outputs": [],
   "source": [
    "import lightgbm\n",
    "from sklearn.model_selection import GroupKFold, GridSearchCV, cross_validate, train_test_split, cross_val_score, cross_val_predict\n",
    "import pandas as pd\n",
    "import shap\n",
    "from sklearn import metrics\n",
    "from sklearn.feature_selection import SelectKBest\n",
    "import numpy as np\n",
    "from sklearn.feature_selection import mutual_info_regression"
   ]
  },
  {
   "cell_type": "code",
   "execution_count": 2,
   "metadata": {},
   "outputs": [],
   "source": [
    "df = pd.read_csv(\"../data/interim/sample.csv\")\n",
    "df1 = pd.read_csv(\"../data/interim/model_torchxray.csv\")\n",
    "df1.drop([\"gt_sum\", \"gt_sum_pos\"], axis=1, inplace=True)"
   ]
  },
  {
   "cell_type": "code",
   "execution_count": 3,
   "metadata": {},
   "outputs": [],
   "source": [
    "df = pd.merge(df, df1, on=\"fname\")"
   ]
  },
  {
   "cell_type": "code",
   "execution_count": 4,
   "metadata": {},
   "outputs": [],
   "source": [
    "df = df.loc[df[\"gt\"] == \"expert\"]"
   ]
  },
  {
   "cell_type": "code",
   "execution_count": 5,
   "metadata": {
    "scrolled": true
   },
   "outputs": [],
   "source": [
    "df[\"false_positive\"] = ~df.true & ~df.positive_gt\n",
    "df[\"false_negative\"] = ~df.true & df.positive_gt"
   ]
  },
  {
   "cell_type": "code",
   "execution_count": 6,
   "metadata": {},
   "outputs": [],
   "source": [
    "df[['iou', 'iomax', 'dice_at_tolerance']] = df[['iou', 'iomax', 'dice_at_tolerance']].fillna(1.0)\n",
    "df.loc[~df.positive_gt & df.true, \"iomin\"] = df.loc[~df.positive_gt & df.true, \"iomin\"].fillna(1.0)\n",
    "df[\"iomin\"].fillna(0.0, inplace=True)"
   ]
  },
  {
   "cell_type": "code",
   "execution_count": 7,
   "metadata": {},
   "outputs": [
    {
     "data": {
      "text/html": [
       "<div>\n",
       "<style scoped>\n",
       "    .dataframe tbody tr th:only-of-type {\n",
       "        vertical-align: middle;\n",
       "    }\n",
       "\n",
       "    .dataframe tbody tr th {\n",
       "        vertical-align: top;\n",
       "    }\n",
       "\n",
       "    .dataframe thead th {\n",
       "        text-align: right;\n",
       "    }\n",
       "</style>\n",
       "<table border=\"1\" class=\"dataframe\">\n",
       "  <thead>\n",
       "    <tr style=\"text-align: right;\">\n",
       "      <th></th>\n",
       "      <th>id</th>\n",
       "      <th>fname</th>\n",
       "      <th>sample_name</th>\n",
       "      <th>y</th>\n",
       "      <th>gt</th>\n",
       "      <th>iou</th>\n",
       "      <th>iomin</th>\n",
       "      <th>iomax</th>\n",
       "      <th>dice</th>\n",
       "      <th>dice_el</th>\n",
       "      <th>...</th>\n",
       "      <th>Mass</th>\n",
       "      <th>Hernia</th>\n",
       "      <th>Lung Lesion</th>\n",
       "      <th>Fracture</th>\n",
       "      <th>Lung Opacity</th>\n",
       "      <th>Enlarged Cardiomediastinum</th>\n",
       "      <th>No Finding</th>\n",
       "      <th>No Finding Sum</th>\n",
       "      <th>false_positive</th>\n",
       "      <th>false_negative</th>\n",
       "    </tr>\n",
       "  </thead>\n",
       "  <tbody>\n",
       "    <tr>\n",
       "      <th>0</th>\n",
       "      <td>00000181_061_1</td>\n",
       "      <td>00000181_061</td>\n",
       "      <td>1</td>\n",
       "      <td>4.0</td>\n",
       "      <td>expert</td>\n",
       "      <td>0.350949</td>\n",
       "      <td>0.985127</td>\n",
       "      <td>0.352818</td>\n",
       "      <td>0.519561</td>\n",
       "      <td>0.475900</td>\n",
       "      <td>...</td>\n",
       "      <td>0.547738</td>\n",
       "      <td>0.012142</td>\n",
       "      <td>0.139100</td>\n",
       "      <td>0.523429</td>\n",
       "      <td>0.593831</td>\n",
       "      <td>0.530269</td>\n",
       "      <td>0.398298</td>\n",
       "      <td>-8.776658</td>\n",
       "      <td>False</td>\n",
       "      <td>False</td>\n",
       "    </tr>\n",
       "    <tr>\n",
       "      <th>1</th>\n",
       "      <td>00000181_061_2</td>\n",
       "      <td>00000181_061</td>\n",
       "      <td>2</td>\n",
       "      <td>4.0</td>\n",
       "      <td>expert</td>\n",
       "      <td>0.237160</td>\n",
       "      <td>1.000000</td>\n",
       "      <td>0.237160</td>\n",
       "      <td>0.383396</td>\n",
       "      <td>0.412101</td>\n",
       "      <td>...</td>\n",
       "      <td>0.547738</td>\n",
       "      <td>0.012142</td>\n",
       "      <td>0.139100</td>\n",
       "      <td>0.523429</td>\n",
       "      <td>0.593831</td>\n",
       "      <td>0.530269</td>\n",
       "      <td>0.398298</td>\n",
       "      <td>-8.776658</td>\n",
       "      <td>False</td>\n",
       "      <td>False</td>\n",
       "    </tr>\n",
       "    <tr>\n",
       "      <th>2</th>\n",
       "      <td>00000181_061_3</td>\n",
       "      <td>00000181_061</td>\n",
       "      <td>3</td>\n",
       "      <td>3.0</td>\n",
       "      <td>expert</td>\n",
       "      <td>0.381895</td>\n",
       "      <td>0.587954</td>\n",
       "      <td>0.521455</td>\n",
       "      <td>0.552716</td>\n",
       "      <td>0.494049</td>\n",
       "      <td>...</td>\n",
       "      <td>0.547738</td>\n",
       "      <td>0.012142</td>\n",
       "      <td>0.139100</td>\n",
       "      <td>0.523429</td>\n",
       "      <td>0.593831</td>\n",
       "      <td>0.530269</td>\n",
       "      <td>0.398298</td>\n",
       "      <td>-8.776658</td>\n",
       "      <td>False</td>\n",
       "      <td>False</td>\n",
       "    </tr>\n",
       "    <tr>\n",
       "      <th>3</th>\n",
       "      <td>00013977_005_1</td>\n",
       "      <td>00013977_005</td>\n",
       "      <td>1</td>\n",
       "      <td>NaN</td>\n",
       "      <td>expert</td>\n",
       "      <td>0.000000</td>\n",
       "      <td>0.000000</td>\n",
       "      <td>0.000000</td>\n",
       "      <td>0.000021</td>\n",
       "      <td>0.000027</td>\n",
       "      <td>...</td>\n",
       "      <td>0.584497</td>\n",
       "      <td>0.014976</td>\n",
       "      <td>0.263935</td>\n",
       "      <td>0.111970</td>\n",
       "      <td>0.065350</td>\n",
       "      <td>0.386314</td>\n",
       "      <td>0.415503</td>\n",
       "      <td>-4.553343</td>\n",
       "      <td>False</td>\n",
       "      <td>True</td>\n",
       "    </tr>\n",
       "    <tr>\n",
       "      <th>4</th>\n",
       "      <td>00013977_005_2</td>\n",
       "      <td>00013977_005</td>\n",
       "      <td>2</td>\n",
       "      <td>NaN</td>\n",
       "      <td>expert</td>\n",
       "      <td>0.791545</td>\n",
       "      <td>0.930406</td>\n",
       "      <td>0.841359</td>\n",
       "      <td>0.883646</td>\n",
       "      <td>0.896229</td>\n",
       "      <td>...</td>\n",
       "      <td>0.584497</td>\n",
       "      <td>0.014976</td>\n",
       "      <td>0.263935</td>\n",
       "      <td>0.111970</td>\n",
       "      <td>0.065350</td>\n",
       "      <td>0.386314</td>\n",
       "      <td>0.415503</td>\n",
       "      <td>-4.553343</td>\n",
       "      <td>False</td>\n",
       "      <td>False</td>\n",
       "    </tr>\n",
       "  </tbody>\n",
       "</table>\n",
       "<p>5 rows × 71 columns</p>\n",
       "</div>"
      ],
      "text/plain": [
       "               id         fname  sample_name    y      gt       iou     iomin  \\\n",
       "0  00000181_061_1  00000181_061            1  4.0  expert  0.350949  0.985127   \n",
       "1  00000181_061_2  00000181_061            2  4.0  expert  0.237160  1.000000   \n",
       "2  00000181_061_3  00000181_061            3  3.0  expert  0.381895  0.587954   \n",
       "3  00013977_005_1  00013977_005            1  NaN  expert  0.000000  0.000000   \n",
       "4  00013977_005_2  00013977_005            2  NaN  expert  0.791545  0.930406   \n",
       "\n",
       "      iomax      dice   dice_el  ...      Mass    Hernia  Lung Lesion  \\\n",
       "0  0.352818  0.519561  0.475900  ...  0.547738  0.012142     0.139100   \n",
       "1  0.237160  0.383396  0.412101  ...  0.547738  0.012142     0.139100   \n",
       "2  0.521455  0.552716  0.494049  ...  0.547738  0.012142     0.139100   \n",
       "3  0.000000  0.000021  0.000027  ...  0.584497  0.014976     0.263935   \n",
       "4  0.841359  0.883646  0.896229  ...  0.584497  0.014976     0.263935   \n",
       "\n",
       "   Fracture  Lung Opacity  Enlarged Cardiomediastinum  No Finding  \\\n",
       "0  0.523429      0.593831                    0.530269    0.398298   \n",
       "1  0.523429      0.593831                    0.530269    0.398298   \n",
       "2  0.523429      0.593831                    0.530269    0.398298   \n",
       "3  0.111970      0.065350                    0.386314    0.415503   \n",
       "4  0.111970      0.065350                    0.386314    0.415503   \n",
       "\n",
       "   No Finding Sum  false_positive  false_negative  \n",
       "0       -8.776658           False           False  \n",
       "1       -8.776658           False           False  \n",
       "2       -8.776658           False           False  \n",
       "3       -4.553343           False            True  \n",
       "4       -4.553343           False           False  \n",
       "\n",
       "[5 rows x 71 columns]"
      ]
     },
     "execution_count": 7,
     "metadata": {},
     "output_type": "execute_result"
    }
   ],
   "source": [
    "df.head(5)"
   ]
  },
  {
   "cell_type": "code",
   "execution_count": 8,
   "metadata": {},
   "outputs": [],
   "source": [
    "predictors = [col for col in df.columns if col not in [\"id\", \"fname\", \"sample_name\", \"y\", \"Unnamed: 0\", \"gt\"]]\n",
    "# predictors_metrics = [pred for pred in predictors if pred in [\"iou\", \"iomin\", \"iomax\", \"gt_sum\", \"gt_sum_pos\", \"true\", \"positive_gt\", \"false_positive\", \"false_negative\"]]"
   ]
  },
  {
   "cell_type": "code",
   "execution_count": 9,
   "metadata": {},
   "outputs": [],
   "source": [
    "fnames = list(df.fname.unique())\n",
    "# fnames_train, fnames_test = train_test_split(fnames, train_size=0.8, random_state=24, shuffle=True)"
   ]
  },
  {
   "cell_type": "code",
   "execution_count": 10,
   "metadata": {},
   "outputs": [],
   "source": [
    "# predictors = predictors_metrics"
   ]
  },
  {
   "cell_type": "code",
   "execution_count": 11,
   "metadata": {},
   "outputs": [],
   "source": [
    "df_train = df.loc[~pd.isnull(df.y)].copy()\n",
    "df_test = df = df.loc[pd.isnull(df.y)].copy()"
   ]
  },
  {
   "cell_type": "code",
   "execution_count": 12,
   "metadata": {
    "scrolled": true
   },
   "outputs": [
    {
     "data": {
      "text/plain": [
       "robust_hausdorff       -0.679425\n",
       "x_diff_center          -0.590955\n",
       "dist                   -0.532196\n",
       "dist_inv               -0.513163\n",
       "ncomponents_abs_diff   -0.383297\n",
       "                          ...   \n",
       "iomax                   0.737239\n",
       "dice_el                 0.753659\n",
       "dice_rect               0.763791\n",
       "dice                    0.766292\n",
       "y                       1.000000\n",
       "Name: y, Length: 67, dtype: float64"
      ]
     },
     "execution_count": 12,
     "metadata": {},
     "output_type": "execute_result"
    }
   ],
   "source": [
    "df_train.corr()[\"y\"].sort_values()"
   ]
  },
  {
   "cell_type": "code",
   "execution_count": 13,
   "metadata": {},
   "outputs": [],
   "source": [
    "X_train = df_train[predictors].fillna(0.0)\n",
    "X_train = X_train.replace([np.inf], 100000.0)\n",
    "df_test[predictors] = df_test[predictors].fillna(0.0)\n",
    "df_test = df_test.replace([np.inf], 100000.0)\n",
    "y_train = df_train[\"y\"]"
   ]
  },
  {
   "cell_type": "code",
   "execution_count": 14,
   "metadata": {
    "scrolled": true
   },
   "outputs": [
    {
     "name": "stdout",
     "output_type": "stream",
     "text": [
      "iomax iou 0.9866099983464108\n",
      "dice iou 0.9799397539257453\n",
      "dice iomax 0.9802335536133366\n",
      "dice_el iou 0.9715657199744687\n",
      "dice_el iomax 0.9660928588159197\n",
      "dice_el dice 0.9876787403482762\n",
      "dice_rect iou 0.9670128792357993\n",
      "dice_rect iomax 0.9668758610891093\n",
      "dice_rect dice 0.9893021364259863\n",
      "dice_rect dice_el 0.9953643944925447\n",
      "precision_0.25 precision_0.0 0.9084102685138388\n",
      "f1_0.25 f1_0.0 0.9147757689106338\n",
      "min_centroid_dist mean_centroid_dist 0.9125527408217419\n",
      "pixel_accuracy ssim 0.9999569238078705\n",
      "false_positive dist_inv 0.9999998657546093\n",
      "false_negative dist 0.999999924406309\n"
     ]
    }
   ],
   "source": [
    "corr_matrix = X_train.corr()\n",
    "threshold = 0.9\n",
    "for i in range(len(corr_matrix.columns)):\n",
    "    for j in range(i):\n",
    "        if (corr_matrix.iloc[i, j] >= threshold):\n",
    "            print(corr_matrix.columns[i], corr_matrix.columns[j], corr_matrix.iloc[i, j])"
   ]
  },
  {
   "cell_type": "code",
   "execution_count": 19,
   "metadata": {},
   "outputs": [],
   "source": [
    "# To be used within GridSearch (5 in your case)\n",
    "inner_cv = GroupKFold(n_splits=10)\n",
    "\n",
    "# To be used in outer CV (you asked for 10)\n",
    "outer_cv = GroupKFold(n_splits=10)"
   ]
  },
  {
   "cell_type": "code",
   "execution_count": 16,
   "metadata": {},
   "outputs": [],
   "source": [
    "from sklearn.base import BaseEstimator \n",
    "from sklearn.base import RegressorMixin\n",
    "\n",
    "# could not use Pipeline, sklearn doesn't allow cloning Pipelines\n",
    "class CustomRegressor(BaseEstimator, RegressorMixin):\n",
    "    def __init__(self, **estimator_params):\n",
    "        super().__init__()\n",
    "        self.selector = SelectKBest(score_func=mutual_info_regression, k=\"all\")\n",
    "        self.base_model = lightgbm.LGBMRegressor(random_state=24, objective=\"regression_l1\")\n",
    "        self.set_params(**estimator_params)\n",
    "\n",
    "    def fit(self, X, y=None):\n",
    "        X_tr = self.selector.fit_transform(X, y)\n",
    "        self.base_model.fit(X_tr, y)\n",
    "        return self\n",
    "\n",
    "    def predict(self, X):\n",
    "        X_tr = self.selector.transform(X)\n",
    "        y = self.base_model.predict(X_tr)\n",
    "        y[X.false_positive == 1] = 1\n",
    "        y[X.false_negative == 1] = 1\n",
    "        y[(X.area_model + X.area_expert) == 0] = 5\n",
    "        y = np.round(y, 0)\n",
    "        return y\n",
    "    \n",
    "    def get_params(self, **params):\n",
    "        pars = self.base_model.get_params()\n",
    "        pars[\"k\"] = self.selector.k\n",
    "        return pars\n",
    "    \n",
    "    def set_params(self, **params):\n",
    "        if \"k\" in params:\n",
    "            k = params.pop(\"k\")\n",
    "            self.selector = self.selector.set_params(k=k)\n",
    "        self.base_model = self.base_model.set_params(**params)\n",
    "        return self"
   ]
  },
  {
   "cell_type": "code",
   "execution_count": 21,
   "metadata": {},
   "outputs": [],
   "source": [
    "model = CustomRegressor()\n",
    "param_grid = {\n",
    "    \"n_estimators\": [50, 100, 200, 300],\n",
    "    \"colsample_bytree\": [0.25, 0.5, 0.75, 1.0],\n",
    "    \"min_child_samples\": [1, 3, 5, 10],\n",
    "    \"num_leaves\": [5, 7, 15, 31],\n",
    "    #\"zero_as_missing\": [False, True],\n",
    "    \"k\": [15, 30, len(predictors)],\n",
    "    \"lambda_l1\": [0.0, 0.1, 1.0],\n",
    "    \"lambda_l2\": [0.0, 0.1, 1.0]\n",
    "}"
   ]
  },
  {
   "cell_type": "code",
   "execution_count": 23,
   "metadata": {
    "scrolled": true
   },
   "outputs": [
    {
     "name": "stdout",
     "output_type": "stream",
     "text": [
      "Fitting 5 folds for each of 1152 candidates, totalling 5760 fits\n"
     ]
    },
    {
     "name": "stderr",
     "output_type": "stream",
     "text": [
      "[Parallel(n_jobs=-1)]: Using backend LokyBackend with 12 concurrent workers.\n",
      "[Parallel(n_jobs=-1)]: Done  26 tasks      | elapsed:    2.2s\n",
      "[Parallel(n_jobs=-1)]: Done 176 tasks      | elapsed:    5.9s\n",
      "[Parallel(n_jobs=-1)]: Done 426 tasks      | elapsed:   11.9s\n",
      "[Parallel(n_jobs=-1)]: Done 776 tasks      | elapsed:   20.6s\n",
      "[Parallel(n_jobs=-1)]: Done 1226 tasks      | elapsed:   31.7s\n",
      "[Parallel(n_jobs=-1)]: Done 1776 tasks      | elapsed:   46.8s\n",
      "[Parallel(n_jobs=-1)]: Done 2426 tasks      | elapsed:  1.0min\n",
      "[Parallel(n_jobs=-1)]: Done 3176 tasks      | elapsed:  1.4min\n",
      "[Parallel(n_jobs=-1)]: Done 4026 tasks      | elapsed:  1.8min\n",
      "[Parallel(n_jobs=-1)]: Done 4976 tasks      | elapsed:  2.1min\n",
      "[Parallel(n_jobs=-1)]: Done 5760 out of 5760 | elapsed:  2.5min finished\n"
     ]
    },
    {
     "name": "stdout",
     "output_type": "stream",
     "text": [
      "0.2777777777777778 0.7222222222222222\n",
      "Fitting 5 folds for each of 1152 candidates, totalling 5760 fits\n"
     ]
    },
    {
     "name": "stderr",
     "output_type": "stream",
     "text": [
      "[Parallel(n_jobs=-1)]: Using backend LokyBackend with 12 concurrent workers.\n",
      "[Parallel(n_jobs=-1)]: Done  26 tasks      | elapsed:    0.8s\n",
      "[Parallel(n_jobs=-1)]: Done 176 tasks      | elapsed:    4.3s\n",
      "[Parallel(n_jobs=-1)]: Done 426 tasks      | elapsed:   10.3s\n",
      "[Parallel(n_jobs=-1)]: Done 776 tasks      | elapsed:   18.7s\n",
      "[Parallel(n_jobs=-1)]: Done 1226 tasks      | elapsed:   29.8s\n",
      "[Parallel(n_jobs=-1)]: Done 1776 tasks      | elapsed:   44.8s\n",
      "[Parallel(n_jobs=-1)]: Done 2426 tasks      | elapsed:  1.0min\n",
      "[Parallel(n_jobs=-1)]: Done 3176 tasks      | elapsed:  1.3min\n",
      "[Parallel(n_jobs=-1)]: Done 4026 tasks      | elapsed:  1.7min\n"
     ]
    },
    {
     "ename": "KeyboardInterrupt",
     "evalue": "",
     "output_type": "error",
     "traceback": [
      "\u001b[0;31m---------------------------------------------------------------------------\u001b[0m",
      "\u001b[0;31mKeyboardInterrupt\u001b[0m                         Traceback (most recent call last)",
      "\u001b[0;32m<ipython-input-23-f5645f63a223>\u001b[0m in \u001b[0;36m<module>\u001b[0;34m\u001b[0m\n\u001b[1;32m      8\u001b[0m \u001b[0;34m\u001b[0m\u001b[0m\n\u001b[1;32m      9\u001b[0m     \u001b[0mclf\u001b[0m \u001b[0;34m=\u001b[0m \u001b[0mGridSearchCV\u001b[0m\u001b[0;34m(\u001b[0m\u001b[0mestimator\u001b[0m\u001b[0;34m=\u001b[0m\u001b[0mmodel\u001b[0m\u001b[0;34m,\u001b[0m \u001b[0mparam_grid\u001b[0m\u001b[0;34m=\u001b[0m\u001b[0mparam_grid\u001b[0m\u001b[0;34m,\u001b[0m \u001b[0mcv\u001b[0m\u001b[0;34m=\u001b[0m\u001b[0minner_cv\u001b[0m\u001b[0;34m,\u001b[0m \u001b[0mverbose\u001b[0m\u001b[0;34m=\u001b[0m\u001b[0;32mTrue\u001b[0m\u001b[0;34m,\u001b[0m \u001b[0mn_jobs\u001b[0m\u001b[0;34m=\u001b[0m\u001b[0;34m-\u001b[0m\u001b[0;36m1\u001b[0m\u001b[0;34m,\u001b[0m \u001b[0mscoring\u001b[0m\u001b[0;34m=\u001b[0m\u001b[0;34m\"neg_mean_absolute_error\"\u001b[0m\u001b[0;34m)\u001b[0m\u001b[0;34m\u001b[0m\u001b[0;34m\u001b[0m\u001b[0m\n\u001b[0;32m---> 10\u001b[0;31m     \u001b[0mclf\u001b[0m\u001b[0;34m.\u001b[0m\u001b[0mfit\u001b[0m\u001b[0;34m(\u001b[0m\u001b[0mX_tr\u001b[0m\u001b[0;34m,\u001b[0m\u001b[0my_tr\u001b[0m\u001b[0;34m,\u001b[0m \u001b[0mgroups\u001b[0m\u001b[0;34m=\u001b[0m\u001b[0mgroups_tt\u001b[0m\u001b[0;34m)\u001b[0m\u001b[0;34m\u001b[0m\u001b[0;34m\u001b[0m\u001b[0m\n\u001b[0m\u001b[1;32m     11\u001b[0m \u001b[0;34m\u001b[0m\u001b[0m\n\u001b[1;32m     12\u001b[0m     \u001b[0mpred\u001b[0m \u001b[0;34m=\u001b[0m \u001b[0mclf\u001b[0m\u001b[0;34m.\u001b[0m\u001b[0mpredict\u001b[0m\u001b[0;34m(\u001b[0m\u001b[0mX_tt\u001b[0m\u001b[0;34m)\u001b[0m\u001b[0;34m\u001b[0m\u001b[0;34m\u001b[0m\u001b[0m\n",
      "\u001b[0;32m~/.virtualenvs/medicine/lib/python3.6/site-packages/sklearn/utils/validation.py\u001b[0m in \u001b[0;36minner_f\u001b[0;34m(*args, **kwargs)\u001b[0m\n\u001b[1;32m     70\u001b[0m                           FutureWarning)\n\u001b[1;32m     71\u001b[0m         \u001b[0mkwargs\u001b[0m\u001b[0;34m.\u001b[0m\u001b[0mupdate\u001b[0m\u001b[0;34m(\u001b[0m\u001b[0;34m{\u001b[0m\u001b[0mk\u001b[0m\u001b[0;34m:\u001b[0m \u001b[0marg\u001b[0m \u001b[0;32mfor\u001b[0m \u001b[0mk\u001b[0m\u001b[0;34m,\u001b[0m \u001b[0marg\u001b[0m \u001b[0;32min\u001b[0m \u001b[0mzip\u001b[0m\u001b[0;34m(\u001b[0m\u001b[0msig\u001b[0m\u001b[0;34m.\u001b[0m\u001b[0mparameters\u001b[0m\u001b[0;34m,\u001b[0m \u001b[0margs\u001b[0m\u001b[0;34m)\u001b[0m\u001b[0;34m}\u001b[0m\u001b[0;34m)\u001b[0m\u001b[0;34m\u001b[0m\u001b[0;34m\u001b[0m\u001b[0m\n\u001b[0;32m---> 72\u001b[0;31m         \u001b[0;32mreturn\u001b[0m \u001b[0mf\u001b[0m\u001b[0;34m(\u001b[0m\u001b[0;34m**\u001b[0m\u001b[0mkwargs\u001b[0m\u001b[0;34m)\u001b[0m\u001b[0;34m\u001b[0m\u001b[0;34m\u001b[0m\u001b[0m\n\u001b[0m\u001b[1;32m     73\u001b[0m     \u001b[0;32mreturn\u001b[0m \u001b[0minner_f\u001b[0m\u001b[0;34m\u001b[0m\u001b[0;34m\u001b[0m\u001b[0m\n\u001b[1;32m     74\u001b[0m \u001b[0;34m\u001b[0m\u001b[0m\n",
      "\u001b[0;32m~/.virtualenvs/medicine/lib/python3.6/site-packages/sklearn/model_selection/_search.py\u001b[0m in \u001b[0;36mfit\u001b[0;34m(self, X, y, groups, **fit_params)\u001b[0m\n\u001b[1;32m    734\u001b[0m                 \u001b[0;32mreturn\u001b[0m \u001b[0mresults\u001b[0m\u001b[0;34m\u001b[0m\u001b[0;34m\u001b[0m\u001b[0m\n\u001b[1;32m    735\u001b[0m \u001b[0;34m\u001b[0m\u001b[0m\n\u001b[0;32m--> 736\u001b[0;31m             \u001b[0mself\u001b[0m\u001b[0;34m.\u001b[0m\u001b[0m_run_search\u001b[0m\u001b[0;34m(\u001b[0m\u001b[0mevaluate_candidates\u001b[0m\u001b[0;34m)\u001b[0m\u001b[0;34m\u001b[0m\u001b[0;34m\u001b[0m\u001b[0m\n\u001b[0m\u001b[1;32m    737\u001b[0m \u001b[0;34m\u001b[0m\u001b[0m\n\u001b[1;32m    738\u001b[0m         \u001b[0;31m# For multi-metric evaluation, store the best_index_, best_params_ and\u001b[0m\u001b[0;34m\u001b[0m\u001b[0;34m\u001b[0m\u001b[0;34m\u001b[0m\u001b[0m\n",
      "\u001b[0;32m~/.virtualenvs/medicine/lib/python3.6/site-packages/sklearn/model_selection/_search.py\u001b[0m in \u001b[0;36m_run_search\u001b[0;34m(self, evaluate_candidates)\u001b[0m\n\u001b[1;32m   1186\u001b[0m     \u001b[0;32mdef\u001b[0m \u001b[0m_run_search\u001b[0m\u001b[0;34m(\u001b[0m\u001b[0mself\u001b[0m\u001b[0;34m,\u001b[0m \u001b[0mevaluate_candidates\u001b[0m\u001b[0;34m)\u001b[0m\u001b[0;34m:\u001b[0m\u001b[0;34m\u001b[0m\u001b[0;34m\u001b[0m\u001b[0m\n\u001b[1;32m   1187\u001b[0m         \u001b[0;34m\"\"\"Search all candidates in param_grid\"\"\"\u001b[0m\u001b[0;34m\u001b[0m\u001b[0;34m\u001b[0m\u001b[0m\n\u001b[0;32m-> 1188\u001b[0;31m         \u001b[0mevaluate_candidates\u001b[0m\u001b[0;34m(\u001b[0m\u001b[0mParameterGrid\u001b[0m\u001b[0;34m(\u001b[0m\u001b[0mself\u001b[0m\u001b[0;34m.\u001b[0m\u001b[0mparam_grid\u001b[0m\u001b[0;34m)\u001b[0m\u001b[0;34m)\u001b[0m\u001b[0;34m\u001b[0m\u001b[0;34m\u001b[0m\u001b[0m\n\u001b[0m\u001b[1;32m   1189\u001b[0m \u001b[0;34m\u001b[0m\u001b[0m\n\u001b[1;32m   1190\u001b[0m \u001b[0;34m\u001b[0m\u001b[0m\n",
      "\u001b[0;32m~/.virtualenvs/medicine/lib/python3.6/site-packages/sklearn/model_selection/_search.py\u001b[0m in \u001b[0;36mevaluate_candidates\u001b[0;34m(candidate_params)\u001b[0m\n\u001b[1;32m    713\u001b[0m                                \u001b[0;32mfor\u001b[0m \u001b[0mparameters\u001b[0m\u001b[0;34m,\u001b[0m \u001b[0;34m(\u001b[0m\u001b[0mtrain\u001b[0m\u001b[0;34m,\u001b[0m \u001b[0mtest\u001b[0m\u001b[0;34m)\u001b[0m\u001b[0;34m\u001b[0m\u001b[0;34m\u001b[0m\u001b[0m\n\u001b[1;32m    714\u001b[0m                                in product(candidate_params,\n\u001b[0;32m--> 715\u001b[0;31m                                           cv.split(X, y, groups)))\n\u001b[0m\u001b[1;32m    716\u001b[0m \u001b[0;34m\u001b[0m\u001b[0m\n\u001b[1;32m    717\u001b[0m                 \u001b[0;32mif\u001b[0m \u001b[0mlen\u001b[0m\u001b[0;34m(\u001b[0m\u001b[0mout\u001b[0m\u001b[0;34m)\u001b[0m \u001b[0;34m<\u001b[0m \u001b[0;36m1\u001b[0m\u001b[0;34m:\u001b[0m\u001b[0;34m\u001b[0m\u001b[0;34m\u001b[0m\u001b[0m\n",
      "\u001b[0;32m~/.virtualenvs/medicine/lib/python3.6/site-packages/joblib/parallel.py\u001b[0m in \u001b[0;36m__call__\u001b[0;34m(self, iterable)\u001b[0m\n\u001b[1;32m   1059\u001b[0m \u001b[0;34m\u001b[0m\u001b[0m\n\u001b[1;32m   1060\u001b[0m             \u001b[0;32mwith\u001b[0m \u001b[0mself\u001b[0m\u001b[0;34m.\u001b[0m\u001b[0m_backend\u001b[0m\u001b[0;34m.\u001b[0m\u001b[0mretrieval_context\u001b[0m\u001b[0;34m(\u001b[0m\u001b[0;34m)\u001b[0m\u001b[0;34m:\u001b[0m\u001b[0;34m\u001b[0m\u001b[0;34m\u001b[0m\u001b[0m\n\u001b[0;32m-> 1061\u001b[0;31m                 \u001b[0mself\u001b[0m\u001b[0;34m.\u001b[0m\u001b[0mretrieve\u001b[0m\u001b[0;34m(\u001b[0m\u001b[0;34m)\u001b[0m\u001b[0;34m\u001b[0m\u001b[0;34m\u001b[0m\u001b[0m\n\u001b[0m\u001b[1;32m   1062\u001b[0m             \u001b[0;31m# Make sure that we get a last message telling us we are done\u001b[0m\u001b[0;34m\u001b[0m\u001b[0;34m\u001b[0m\u001b[0;34m\u001b[0m\u001b[0m\n\u001b[1;32m   1063\u001b[0m             \u001b[0melapsed_time\u001b[0m \u001b[0;34m=\u001b[0m \u001b[0mtime\u001b[0m\u001b[0;34m.\u001b[0m\u001b[0mtime\u001b[0m\u001b[0;34m(\u001b[0m\u001b[0;34m)\u001b[0m \u001b[0;34m-\u001b[0m \u001b[0mself\u001b[0m\u001b[0;34m.\u001b[0m\u001b[0m_start_time\u001b[0m\u001b[0;34m\u001b[0m\u001b[0;34m\u001b[0m\u001b[0m\n",
      "\u001b[0;32m~/.virtualenvs/medicine/lib/python3.6/site-packages/joblib/parallel.py\u001b[0m in \u001b[0;36mretrieve\u001b[0;34m(self)\u001b[0m\n\u001b[1;32m    938\u001b[0m             \u001b[0;32mtry\u001b[0m\u001b[0;34m:\u001b[0m\u001b[0;34m\u001b[0m\u001b[0;34m\u001b[0m\u001b[0m\n\u001b[1;32m    939\u001b[0m                 \u001b[0;32mif\u001b[0m \u001b[0mgetattr\u001b[0m\u001b[0;34m(\u001b[0m\u001b[0mself\u001b[0m\u001b[0;34m.\u001b[0m\u001b[0m_backend\u001b[0m\u001b[0;34m,\u001b[0m \u001b[0;34m'supports_timeout'\u001b[0m\u001b[0;34m,\u001b[0m \u001b[0;32mFalse\u001b[0m\u001b[0;34m)\u001b[0m\u001b[0;34m:\u001b[0m\u001b[0;34m\u001b[0m\u001b[0;34m\u001b[0m\u001b[0m\n\u001b[0;32m--> 940\u001b[0;31m                     \u001b[0mself\u001b[0m\u001b[0;34m.\u001b[0m\u001b[0m_output\u001b[0m\u001b[0;34m.\u001b[0m\u001b[0mextend\u001b[0m\u001b[0;34m(\u001b[0m\u001b[0mjob\u001b[0m\u001b[0;34m.\u001b[0m\u001b[0mget\u001b[0m\u001b[0;34m(\u001b[0m\u001b[0mtimeout\u001b[0m\u001b[0;34m=\u001b[0m\u001b[0mself\u001b[0m\u001b[0;34m.\u001b[0m\u001b[0mtimeout\u001b[0m\u001b[0;34m)\u001b[0m\u001b[0;34m)\u001b[0m\u001b[0;34m\u001b[0m\u001b[0;34m\u001b[0m\u001b[0m\n\u001b[0m\u001b[1;32m    941\u001b[0m                 \u001b[0;32melse\u001b[0m\u001b[0;34m:\u001b[0m\u001b[0;34m\u001b[0m\u001b[0;34m\u001b[0m\u001b[0m\n\u001b[1;32m    942\u001b[0m                     \u001b[0mself\u001b[0m\u001b[0;34m.\u001b[0m\u001b[0m_output\u001b[0m\u001b[0;34m.\u001b[0m\u001b[0mextend\u001b[0m\u001b[0;34m(\u001b[0m\u001b[0mjob\u001b[0m\u001b[0;34m.\u001b[0m\u001b[0mget\u001b[0m\u001b[0;34m(\u001b[0m\u001b[0;34m)\u001b[0m\u001b[0;34m)\u001b[0m\u001b[0;34m\u001b[0m\u001b[0;34m\u001b[0m\u001b[0m\n",
      "\u001b[0;32m~/.virtualenvs/medicine/lib/python3.6/site-packages/joblib/_parallel_backends.py\u001b[0m in \u001b[0;36mwrap_future_result\u001b[0;34m(future, timeout)\u001b[0m\n\u001b[1;32m    540\u001b[0m         AsyncResults.get from multiprocessing.\"\"\"\n\u001b[1;32m    541\u001b[0m         \u001b[0;32mtry\u001b[0m\u001b[0;34m:\u001b[0m\u001b[0;34m\u001b[0m\u001b[0;34m\u001b[0m\u001b[0m\n\u001b[0;32m--> 542\u001b[0;31m             \u001b[0;32mreturn\u001b[0m \u001b[0mfuture\u001b[0m\u001b[0;34m.\u001b[0m\u001b[0mresult\u001b[0m\u001b[0;34m(\u001b[0m\u001b[0mtimeout\u001b[0m\u001b[0;34m=\u001b[0m\u001b[0mtimeout\u001b[0m\u001b[0;34m)\u001b[0m\u001b[0;34m\u001b[0m\u001b[0;34m\u001b[0m\u001b[0m\n\u001b[0m\u001b[1;32m    543\u001b[0m         \u001b[0;32mexcept\u001b[0m \u001b[0mCfTimeoutError\u001b[0m \u001b[0;32mas\u001b[0m \u001b[0me\u001b[0m\u001b[0;34m:\u001b[0m\u001b[0;34m\u001b[0m\u001b[0;34m\u001b[0m\u001b[0m\n\u001b[1;32m    544\u001b[0m             \u001b[0;32mraise\u001b[0m \u001b[0mTimeoutError\u001b[0m \u001b[0;32mfrom\u001b[0m \u001b[0me\u001b[0m\u001b[0;34m\u001b[0m\u001b[0;34m\u001b[0m\u001b[0m\n",
      "\u001b[0;32m/usr/lib/python3.6/concurrent/futures/_base.py\u001b[0m in \u001b[0;36mresult\u001b[0;34m(self, timeout)\u001b[0m\n\u001b[1;32m    425\u001b[0m                 \u001b[0;32mreturn\u001b[0m \u001b[0mself\u001b[0m\u001b[0;34m.\u001b[0m\u001b[0m__get_result\u001b[0m\u001b[0;34m(\u001b[0m\u001b[0;34m)\u001b[0m\u001b[0;34m\u001b[0m\u001b[0;34m\u001b[0m\u001b[0m\n\u001b[1;32m    426\u001b[0m \u001b[0;34m\u001b[0m\u001b[0m\n\u001b[0;32m--> 427\u001b[0;31m             \u001b[0mself\u001b[0m\u001b[0;34m.\u001b[0m\u001b[0m_condition\u001b[0m\u001b[0;34m.\u001b[0m\u001b[0mwait\u001b[0m\u001b[0;34m(\u001b[0m\u001b[0mtimeout\u001b[0m\u001b[0;34m)\u001b[0m\u001b[0;34m\u001b[0m\u001b[0;34m\u001b[0m\u001b[0m\n\u001b[0m\u001b[1;32m    428\u001b[0m \u001b[0;34m\u001b[0m\u001b[0m\n\u001b[1;32m    429\u001b[0m             \u001b[0;32mif\u001b[0m \u001b[0mself\u001b[0m\u001b[0;34m.\u001b[0m\u001b[0m_state\u001b[0m \u001b[0;32min\u001b[0m \u001b[0;34m[\u001b[0m\u001b[0mCANCELLED\u001b[0m\u001b[0;34m,\u001b[0m \u001b[0mCANCELLED_AND_NOTIFIED\u001b[0m\u001b[0;34m]\u001b[0m\u001b[0;34m:\u001b[0m\u001b[0;34m\u001b[0m\u001b[0;34m\u001b[0m\u001b[0m\n",
      "\u001b[0;32m/usr/lib/python3.6/threading.py\u001b[0m in \u001b[0;36mwait\u001b[0;34m(self, timeout)\u001b[0m\n\u001b[1;32m    293\u001b[0m         \u001b[0;32mtry\u001b[0m\u001b[0;34m:\u001b[0m    \u001b[0;31m# restore state no matter what (e.g., KeyboardInterrupt)\u001b[0m\u001b[0;34m\u001b[0m\u001b[0;34m\u001b[0m\u001b[0m\n\u001b[1;32m    294\u001b[0m             \u001b[0;32mif\u001b[0m \u001b[0mtimeout\u001b[0m \u001b[0;32mis\u001b[0m \u001b[0;32mNone\u001b[0m\u001b[0;34m:\u001b[0m\u001b[0;34m\u001b[0m\u001b[0;34m\u001b[0m\u001b[0m\n\u001b[0;32m--> 295\u001b[0;31m                 \u001b[0mwaiter\u001b[0m\u001b[0;34m.\u001b[0m\u001b[0macquire\u001b[0m\u001b[0;34m(\u001b[0m\u001b[0;34m)\u001b[0m\u001b[0;34m\u001b[0m\u001b[0;34m\u001b[0m\u001b[0m\n\u001b[0m\u001b[1;32m    296\u001b[0m                 \u001b[0mgotit\u001b[0m \u001b[0;34m=\u001b[0m \u001b[0;32mTrue\u001b[0m\u001b[0;34m\u001b[0m\u001b[0;34m\u001b[0m\u001b[0m\n\u001b[1;32m    297\u001b[0m             \u001b[0;32melse\u001b[0m\u001b[0;34m:\u001b[0m\u001b[0;34m\u001b[0m\u001b[0;34m\u001b[0m\u001b[0m\n",
      "\u001b[0;31mKeyboardInterrupt\u001b[0m: "
     ]
    }
   ],
   "source": [
    "pred_y = []\n",
    "true_y = []\n",
    "for train_index, test_index in outer_cv.split(X_train, y_train, groups=df_train.fname):\n",
    "    X_tr, X_tt = X_train.iloc[train_index,:], X_train.iloc[test_index,:]\n",
    "    y_tr, y_tt = y_train.iloc[train_index], y_train.iloc[test_index]\n",
    "    groups_tt = df_train.fname.iloc[train_index]\n",
    "    source_ind = (df_train[\"gt\"].iloc[test_index] == \"expert\").values\n",
    "\n",
    "    clf = GridSearchCV(estimator=model, param_grid=param_grid, cv=inner_cv, verbose=True, n_jobs=-1, scoring=\"neg_mean_absolute_error\")\n",
    "    clf.fit(X_tr,y_tr, groups=groups_tt)\n",
    "\n",
    "    pred = clf.predict(X_tt)\n",
    "    pred_y.extend(pred[source_ind])\n",
    "    true_y.extend(y_tt[source_ind])\n",
    "    nested_score = metrics.mean_absolute_error(true_y, pred_y)\n",
    "    nested_accuracy = metrics.accuracy_score(true_y, pred_y)\n",
    "    print(nested_score, nested_accuracy)"
   ]
  },
  {
   "cell_type": "code",
   "execution_count": null,
   "metadata": {
    "scrolled": true
   },
   "outputs": [],
   "source": [
    "nested_score = metrics.mean_absolute_error(true_y, pred_y)\n",
    "nested_accuracy = metrics.accuracy_score(true_y, pred_y)"
   ]
  },
  {
   "cell_type": "code",
   "execution_count": 22,
   "metadata": {},
   "outputs": [
    {
     "name": "stdout",
     "output_type": "stream",
     "text": [
      "Fitting 10 folds for each of 6912 candidates, totalling 69120 fits\n"
     ]
    },
    {
     "name": "stderr",
     "output_type": "stream",
     "text": [
      "[Parallel(n_jobs=-1)]: Using backend LokyBackend with 12 concurrent workers.\n",
      "[Parallel(n_jobs=-1)]: Done  26 tasks      | elapsed:    2.2s\n",
      "[Parallel(n_jobs=-1)]: Done 176 tasks      | elapsed:    6.3s\n",
      "[Parallel(n_jobs=-1)]: Done 426 tasks      | elapsed:   13.0s\n",
      "[Parallel(n_jobs=-1)]: Done 776 tasks      | elapsed:   22.3s\n",
      "[Parallel(n_jobs=-1)]: Done 1226 tasks      | elapsed:   34.4s\n",
      "[Parallel(n_jobs=-1)]: Done 1776 tasks      | elapsed:   49.0s\n",
      "[Parallel(n_jobs=-1)]: Done 2426 tasks      | elapsed:  1.1min\n",
      "[Parallel(n_jobs=-1)]: Done 3176 tasks      | elapsed:  1.4min\n",
      "[Parallel(n_jobs=-1)]: Done 4026 tasks      | elapsed:  1.8min\n",
      "[Parallel(n_jobs=-1)]: Done 4976 tasks      | elapsed:  2.2min\n",
      "[Parallel(n_jobs=-1)]: Done 6026 tasks      | elapsed:  2.7min\n",
      "[Parallel(n_jobs=-1)]: Done 7176 tasks      | elapsed:  3.2min\n",
      "[Parallel(n_jobs=-1)]: Done 8426 tasks      | elapsed:  3.8min\n",
      "[Parallel(n_jobs=-1)]: Done 9776 tasks      | elapsed:  4.4min\n",
      "[Parallel(n_jobs=-1)]: Done 11226 tasks      | elapsed:  5.1min\n",
      "[Parallel(n_jobs=-1)]: Done 12776 tasks      | elapsed:  5.8min\n",
      "[Parallel(n_jobs=-1)]: Done 14426 tasks      | elapsed:  6.6min\n",
      "[Parallel(n_jobs=-1)]: Done 16176 tasks      | elapsed:  7.5min\n",
      "[Parallel(n_jobs=-1)]: Done 18026 tasks      | elapsed:  8.4min\n",
      "[Parallel(n_jobs=-1)]: Done 19976 tasks      | elapsed:  9.2min\n",
      "[Parallel(n_jobs=-1)]: Done 22026 tasks      | elapsed: 10.2min\n",
      "[Parallel(n_jobs=-1)]: Done 24176 tasks      | elapsed: 11.2min\n",
      "[Parallel(n_jobs=-1)]: Done 26426 tasks      | elapsed: 12.2min\n",
      "[Parallel(n_jobs=-1)]: Done 28776 tasks      | elapsed: 13.3min\n",
      "[Parallel(n_jobs=-1)]: Done 31226 tasks      | elapsed: 14.7min\n",
      "[Parallel(n_jobs=-1)]: Done 33776 tasks      | elapsed: 16.0min\n",
      "[Parallel(n_jobs=-1)]: Done 36426 tasks      | elapsed: 17.3min\n",
      "[Parallel(n_jobs=-1)]: Done 39176 tasks      | elapsed: 18.6min\n",
      "[Parallel(n_jobs=-1)]: Done 42026 tasks      | elapsed: 19.9min\n",
      "[Parallel(n_jobs=-1)]: Done 44976 tasks      | elapsed: 21.4min\n",
      "[Parallel(n_jobs=-1)]: Done 48026 tasks      | elapsed: 23.0min\n",
      "[Parallel(n_jobs=-1)]: Done 51176 tasks      | elapsed: 24.9min\n",
      "[Parallel(n_jobs=-1)]: Done 54426 tasks      | elapsed: 26.4min\n",
      "[Parallel(n_jobs=-1)]: Done 57776 tasks      | elapsed: 28.0min\n",
      "[Parallel(n_jobs=-1)]: Done 61226 tasks      | elapsed: 29.7min\n",
      "[Parallel(n_jobs=-1)]: Done 64776 tasks      | elapsed: 31.6min\n",
      "[Parallel(n_jobs=-1)]: Done 68426 tasks      | elapsed: 33.8min\n",
      "[Parallel(n_jobs=-1)]: Done 69120 out of 69120 | elapsed: 34.3min finished\n"
     ]
    }
   ],
   "source": [
    "clf = GridSearchCV(estimator=model, param_grid=param_grid, cv=inner_cv, n_jobs=-1, refit=True, verbose=True, scoring=\"neg_mean_absolute_error\")\n",
    "clf.fit(X_train, y_train, groups=df_train.fname)\n",
    "non_nested_score = -clf.best_score_"
   ]
  },
  {
   "cell_type": "code",
   "execution_count": 23,
   "metadata": {},
   "outputs": [
    {
     "data": {
      "text/plain": [
       "0.4111111111111111"
      ]
     },
     "execution_count": 23,
     "metadata": {},
     "output_type": "execute_result"
    }
   ],
   "source": [
    "non_nested_score"
   ]
  },
  {
   "cell_type": "code",
   "execution_count": 24,
   "metadata": {},
   "outputs": [
    {
     "data": {
      "text/plain": [
       "{'colsample_bytree': 0.75,\n",
       " 'k': 65,\n",
       " 'lambda_l1': 0.0,\n",
       " 'lambda_l2': 1.0,\n",
       " 'min_child_samples': 1,\n",
       " 'n_estimators': 300,\n",
       " 'num_leaves': 5}"
      ]
     },
     "execution_count": 24,
     "metadata": {},
     "output_type": "execute_result"
    }
   ],
   "source": [
    "clf.best_params_"
   ]
  },
  {
   "cell_type": "code",
   "execution_count": null,
   "metadata": {},
   "outputs": [],
   "source": [
    "print(\"All predictors\", nested_score, nested_accuracy, non_nested_score)"
   ]
  },
  {
   "cell_type": "code",
   "execution_count": 25,
   "metadata": {},
   "outputs": [
    {
     "data": {
      "image/png": "[encoded data removed]",
      "text/plain": [
       "<Figure size 576x684 with 2 Axes>"
      ]
     },
     "metadata": {},
     "output_type": "display_data"
    }
   ],
   "source": [
    "X_tr = clf.best_estimator_.selector.transform(X_train)\n",
    "explainer = shap.TreeExplainer(clf.best_estimator_.base_model)\n",
    "shap_values = explainer.shap_values(X_tr)\n",
    "topk = clf.best_estimator_.selector.get_support()\n",
    "shap.summary_plot(shap_values, X_tr, axis_color=\"white\", feature_names=X_train.columns[topk])"
   ]
  },
  {
   "cell_type": "code",
   "execution_count": null,
   "metadata": {},
   "outputs": [],
   "source": [
    "model = model.set_params(**clf.best_params_)\n",
    "df_train['prediction'] = cross_val_predict(model, X_train, y_train, cv=inner_cv, groups=df_train.fname)\n",
    "df_test['prediction'] = clf.predict(df_test[predictors].fillna(0.0))"
   ]
  },
  {
   "cell_type": "code",
   "execution_count": null,
   "metadata": {},
   "outputs": [],
   "source": [
    "def rand_jitter(arr):\n",
    "    stdev = .02 * (max(arr) - min(arr))\n",
    "    return arr + np.random.randn(len(arr)) * stdev"
   ]
  },
  {
   "cell_type": "code",
   "execution_count": null,
   "metadata": {},
   "outputs": [],
   "source": [
    "df_train['prediction_jitter'] = rand_jitter(df_train.prediction)"
   ]
  },
  {
   "cell_type": "code",
   "execution_count": null,
   "metadata": {},
   "outputs": [],
   "source": [
    "df_train.plot.scatter(\"y\", \"prediction_jitter\", figsize=(8, 8))"
   ]
  },
  {
   "cell_type": "code",
   "execution_count": null,
   "metadata": {
    "scrolled": true
   },
   "outputs": [],
   "source": [
    "df_train.corr()['y'].sort_values()"
   ]
  },
  {
   "cell_type": "code",
   "execution_count": null,
   "metadata": {},
   "outputs": [],
   "source": [
    "df_test.prediction.hist()"
   ]
  },
  {
   "cell_type": "code",
   "execution_count": null,
   "metadata": {},
   "outputs": [],
   "source": [
    "df_train.y.hist()"
   ]
  },
  {
   "cell_type": "code",
   "execution_count": null,
   "metadata": {},
   "outputs": [],
   "source": []
  }
 ],
 "metadata": {
  "kernelspec": {
   "display_name": "medicine",
   "language": "python",
   "name": "medicine"
  },
  "language_info": {
   "codemirror_mode": {
    "name": "ipython",
    "version": 3
   },
   "file_extension": ".py",
   "mimetype": "text/x-python",
   "name": "python",
   "nbconvert_exporter": "python",
   "pygments_lexer": "ipython3",
   "version": "3.6.8"
  }
 },
 "nbformat": 4,
 "nbformat_minor": 2
}
