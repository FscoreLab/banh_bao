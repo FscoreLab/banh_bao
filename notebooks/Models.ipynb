{
 "cells": [
  {
   "cell_type": "code",
   "execution_count": 373,
   "metadata": {},
   "outputs": [],
   "source": [
    "import lightgbm\n",
    "from sklearn.model_selection import GroupKFold, GridSearchCV, cross_validate, train_test_split, cross_val_score, cross_val_predict\n",
    "import pandas as pd\n",
    "import shap\n",
    "from sklearn import metrics\n",
    "import numpy as np"
   ]
  },
  {
   "cell_type": "code",
   "execution_count": 374,
   "metadata": {},
   "outputs": [],
   "source": [
    "df = pd.read_csv(\"data/interim/sample.csv\")\n",
    "df1 = pd.read_csv(\"data/interim/model_torchxray.csv\")\n",
    "df1.drop([\"gt_sum\", \"gt_sum_pos\"], axis=1, inplace=True)"
   ]
  },
  {
   "cell_type": "code",
   "execution_count": 375,
   "metadata": {},
   "outputs": [],
   "source": [
    "df = pd.merge(df, df1, on=\"fname\")"
   ]
  },
  {
   "cell_type": "code",
   "execution_count": 376,
   "metadata": {
    "scrolled": true
   },
   "outputs": [],
   "source": [
    "df[\"false_positive\"] = ~df.true & ~df.positive_gt\n",
    "df[\"false_negative\"] = ~df.true & df.positive_gt"
   ]
  },
  {
   "cell_type": "code",
   "execution_count": 377,
   "metadata": {},
   "outputs": [],
   "source": [
    "df[['iou', 'iomax', 'dice_at_tolerance']] = df[['iou', 'iomax', 'dice_at_tolerance']].fillna(1.0)\n",
    "df.loc[~df.positive_gt & df.true, \"iomin\"] = df.loc[~df.positive_gt & df.true, \"iomin\"].fillna(1.0)\n",
    "df[\"iomin\"].fillna(0.0, inplace=True)"
   ]
  },
  {
   "cell_type": "code",
   "execution_count": 378,
   "metadata": {},
   "outputs": [
    {
     "data": {
      "text/html": [
       "<div>\n",
       "<style scoped>\n",
       "    .dataframe tbody tr th:only-of-type {\n",
       "        vertical-align: middle;\n",
       "    }\n",
       "\n",
       "    .dataframe tbody tr th {\n",
       "        vertical-align: top;\n",
       "    }\n",
       "\n",
       "    .dataframe thead th {\n",
       "        text-align: right;\n",
       "    }\n",
       "</style>\n",
       "<table border=\"1\" class=\"dataframe\">\n",
       "  <thead>\n",
       "    <tr style=\"text-align: right;\">\n",
       "      <th></th>\n",
       "      <th>id</th>\n",
       "      <th>fname</th>\n",
       "      <th>sample_name</th>\n",
       "      <th>iou</th>\n",
       "      <th>iomin</th>\n",
       "      <th>iomax</th>\n",
       "      <th>dice</th>\n",
       "      <th>true</th>\n",
       "      <th>positive_gt</th>\n",
       "      <th>hausdorff</th>\n",
       "      <th>...</th>\n",
       "      <th>Mass</th>\n",
       "      <th>Hernia</th>\n",
       "      <th>Lung Lesion</th>\n",
       "      <th>Fracture</th>\n",
       "      <th>Lung Opacity</th>\n",
       "      <th>Enlarged Cardiomediastinum</th>\n",
       "      <th>No Finding</th>\n",
       "      <th>No Finding Sum</th>\n",
       "      <th>false_positive</th>\n",
       "      <th>false_negative</th>\n",
       "    </tr>\n",
       "  </thead>\n",
       "  <tbody>\n",
       "    <tr>\n",
       "      <th>0</th>\n",
       "      <td>00000181_061_1</td>\n",
       "      <td>00000181_061</td>\n",
       "      <td>1</td>\n",
       "      <td>0.350949</td>\n",
       "      <td>0.985127</td>\n",
       "      <td>0.352818</td>\n",
       "      <td>0.519561</td>\n",
       "      <td>True</td>\n",
       "      <td>True</td>\n",
       "      <td>12.165525</td>\n",
       "      <td>...</td>\n",
       "      <td>0.547738</td>\n",
       "      <td>0.012142</td>\n",
       "      <td>0.139100</td>\n",
       "      <td>0.523429</td>\n",
       "      <td>0.593831</td>\n",
       "      <td>0.530269</td>\n",
       "      <td>0.398298</td>\n",
       "      <td>-8.776658</td>\n",
       "      <td>False</td>\n",
       "      <td>False</td>\n",
       "    </tr>\n",
       "    <tr>\n",
       "      <th>1</th>\n",
       "      <td>00000181_061_2</td>\n",
       "      <td>00000181_061</td>\n",
       "      <td>2</td>\n",
       "      <td>0.237160</td>\n",
       "      <td>1.000000</td>\n",
       "      <td>0.237160</td>\n",
       "      <td>0.383396</td>\n",
       "      <td>True</td>\n",
       "      <td>True</td>\n",
       "      <td>13.784049</td>\n",
       "      <td>...</td>\n",
       "      <td>0.547738</td>\n",
       "      <td>0.012142</td>\n",
       "      <td>0.139100</td>\n",
       "      <td>0.523429</td>\n",
       "      <td>0.593831</td>\n",
       "      <td>0.530269</td>\n",
       "      <td>0.398298</td>\n",
       "      <td>-8.776658</td>\n",
       "      <td>False</td>\n",
       "      <td>False</td>\n",
       "    </tr>\n",
       "    <tr>\n",
       "      <th>2</th>\n",
       "      <td>00000181_061_3</td>\n",
       "      <td>00000181_061</td>\n",
       "      <td>3</td>\n",
       "      <td>0.381895</td>\n",
       "      <td>0.587954</td>\n",
       "      <td>0.521455</td>\n",
       "      <td>0.552716</td>\n",
       "      <td>True</td>\n",
       "      <td>True</td>\n",
       "      <td>13.000000</td>\n",
       "      <td>...</td>\n",
       "      <td>0.547738</td>\n",
       "      <td>0.012142</td>\n",
       "      <td>0.139100</td>\n",
       "      <td>0.523429</td>\n",
       "      <td>0.593831</td>\n",
       "      <td>0.530269</td>\n",
       "      <td>0.398298</td>\n",
       "      <td>-8.776658</td>\n",
       "      <td>False</td>\n",
       "      <td>False</td>\n",
       "    </tr>\n",
       "    <tr>\n",
       "      <th>3</th>\n",
       "      <td>00013977_005_1</td>\n",
       "      <td>00013977_005</td>\n",
       "      <td>1</td>\n",
       "      <td>0.000000</td>\n",
       "      <td>0.000000</td>\n",
       "      <td>0.000000</td>\n",
       "      <td>0.000021</td>\n",
       "      <td>False</td>\n",
       "      <td>True</td>\n",
       "      <td>17.233688</td>\n",
       "      <td>...</td>\n",
       "      <td>0.584497</td>\n",
       "      <td>0.014976</td>\n",
       "      <td>0.263935</td>\n",
       "      <td>0.111970</td>\n",
       "      <td>0.065350</td>\n",
       "      <td>0.386314</td>\n",
       "      <td>0.415503</td>\n",
       "      <td>-4.553343</td>\n",
       "      <td>False</td>\n",
       "      <td>True</td>\n",
       "    </tr>\n",
       "    <tr>\n",
       "      <th>4</th>\n",
       "      <td>00013977_005_2</td>\n",
       "      <td>00013977_005</td>\n",
       "      <td>2</td>\n",
       "      <td>0.791545</td>\n",
       "      <td>0.930406</td>\n",
       "      <td>0.841359</td>\n",
       "      <td>0.883646</td>\n",
       "      <td>True</td>\n",
       "      <td>True</td>\n",
       "      <td>5.196152</td>\n",
       "      <td>...</td>\n",
       "      <td>0.584497</td>\n",
       "      <td>0.014976</td>\n",
       "      <td>0.263935</td>\n",
       "      <td>0.111970</td>\n",
       "      <td>0.065350</td>\n",
       "      <td>0.386314</td>\n",
       "      <td>0.415503</td>\n",
       "      <td>-4.553343</td>\n",
       "      <td>False</td>\n",
       "      <td>False</td>\n",
       "    </tr>\n",
       "  </tbody>\n",
       "</table>\n",
       "<p>5 rows × 55 columns</p>\n",
       "</div>"
      ],
      "text/plain": [
       "               id         fname  sample_name       iou     iomin     iomax  \\\n",
       "0  00000181_061_1  00000181_061            1  0.350949  0.985127  0.352818   \n",
       "1  00000181_061_2  00000181_061            2  0.237160  1.000000  0.237160   \n",
       "2  00000181_061_3  00000181_061            3  0.381895  0.587954  0.521455   \n",
       "3  00013977_005_1  00013977_005            1  0.000000  0.000000  0.000000   \n",
       "4  00013977_005_2  00013977_005            2  0.791545  0.930406  0.841359   \n",
       "\n",
       "       dice   true  positive_gt  hausdorff  ...      Mass    Hernia  \\\n",
       "0  0.519561   True         True  12.165525  ...  0.547738  0.012142   \n",
       "1  0.383396   True         True  13.784049  ...  0.547738  0.012142   \n",
       "2  0.552716   True         True  13.000000  ...  0.547738  0.012142   \n",
       "3  0.000021  False         True  17.233688  ...  0.584497  0.014976   \n",
       "4  0.883646   True         True   5.196152  ...  0.584497  0.014976   \n",
       "\n",
       "   Lung Lesion  Fracture  Lung Opacity  Enlarged Cardiomediastinum  \\\n",
       "0     0.139100  0.523429      0.593831                    0.530269   \n",
       "1     0.139100  0.523429      0.593831                    0.530269   \n",
       "2     0.139100  0.523429      0.593831                    0.530269   \n",
       "3     0.263935  0.111970      0.065350                    0.386314   \n",
       "4     0.263935  0.111970      0.065350                    0.386314   \n",
       "\n",
       "   No Finding  No Finding Sum  false_positive  false_negative  \n",
       "0    0.398298       -8.776658           False           False  \n",
       "1    0.398298       -8.776658           False           False  \n",
       "2    0.398298       -8.776658           False           False  \n",
       "3    0.415503       -4.553343           False            True  \n",
       "4    0.415503       -4.553343           False           False  \n",
       "\n",
       "[5 rows x 55 columns]"
      ]
     },
     "execution_count": 378,
     "metadata": {},
     "output_type": "execute_result"
    }
   ],
   "source": [
    "df.head(5)"
   ]
  },
  {
   "cell_type": "code",
   "execution_count": 379,
   "metadata": {},
   "outputs": [],
   "source": [
    "predictors = [col for col in df.columns if col not in [\"id\", \"fname\", \"sample_name\", \"y\", \"Unnamed: 0\"]]\n",
    "# predictors_metrics = [pred for pred in predictors if pred in [\"iou\", \"iomin\", \"iomax\", \"gt_sum\", \"gt_sum_pos\", \"true\", \"positive_gt\", \"false_positive\", \"false_negative\"]]"
   ]
  },
  {
   "cell_type": "code",
   "execution_count": 380,
   "metadata": {},
   "outputs": [],
   "source": [
    "fnames = list(df.fname.unique())\n",
    "# fnames_train, fnames_test = train_test_split(fnames, train_size=0.8, random_state=24, shuffle=True)"
   ]
  },
  {
   "cell_type": "code",
   "execution_count": 381,
   "metadata": {},
   "outputs": [],
   "source": [
    "# predictors = predictors_metrics"
   ]
  },
  {
   "cell_type": "code",
   "execution_count": 382,
   "metadata": {},
   "outputs": [],
   "source": [
    "df_train = df.loc[~pd.isnull(df.y)].copy()\n",
    "df_test = df = df.loc[pd.isnull(df.y)].copy()"
   ]
  },
  {
   "cell_type": "code",
   "execution_count": 383,
   "metadata": {
    "scrolled": true
   },
   "outputs": [
    {
     "data": {
      "text/plain": [
       "robust_hausdorff             -0.679425\n",
       "dist                         -0.532196\n",
       "dist_inv                     -0.513163\n",
       "ncomponents_abs_diff         -0.383297\n",
       "false_negative               -0.348899\n",
       "hausdorff                    -0.228700\n",
       "Cardiomegaly                 -0.222196\n",
       "false_positive               -0.220380\n",
       "No Finding                   -0.172717\n",
       "area_abs_diff                -0.138702\n",
       "Atelectasis                  -0.136512\n",
       "sample_name                  -0.130815\n",
       "hausdorff_inv                -0.121332\n",
       "Fracture                     -0.098530\n",
       "Edema                        -0.078394\n",
       "Emphysema                    -0.067645\n",
       "Hernia                       -0.049515\n",
       "Effusion                     -0.047839\n",
       "Infiltration                 -0.025480\n",
       "positive_gt                  -0.015859\n",
       "ncomponents                  -0.010311\n",
       "No Finding Sum                0.008730\n",
       "Pneumothorax                  0.023859\n",
       "Lung Opacity                  0.043457\n",
       "Pleural_Thickening            0.049094\n",
       "Pneumonia                     0.050276\n",
       "ncomponents_model             0.052055\n",
       "Consolidation                 0.088686\n",
       "Enlarged Cardiomediastinum    0.095908\n",
       "Lung Lesion                   0.109083\n",
       "area_model                    0.116341\n",
       "area_expert                   0.126206\n",
       "Mass                          0.145054\n",
       "Fibrosis                      0.147194\n",
       "ssim                          0.160405\n",
       "Nodule                        0.183918\n",
       "precision_0.5                 0.320626\n",
       "precision_0.0                 0.386782\n",
       "precision_0.25                0.408464\n",
       "true                          0.421967\n",
       "recall_0.5                    0.449095\n",
       "dice_at_tolerance             0.530971\n",
       "recall_0.0                    0.566940\n",
       "recall_0.25                   0.589426\n",
       "f1_0.5                        0.606862\n",
       "iomin                         0.624097\n",
       "f1_0.0                        0.714083\n",
       "f1_0.25                       0.732509\n",
       "iou                           0.735455\n",
       "iomax                         0.737239\n",
       "dice                          0.766292\n",
       "y                             1.000000\n",
       "Name: y, dtype: float64"
      ]
     },
     "execution_count": 383,
     "metadata": {},
     "output_type": "execute_result"
    }
   ],
   "source": [
    "df_train.corr()[\"y\"].sort_values()"
   ]
  },
  {
   "cell_type": "code",
   "execution_count": 384,
   "metadata": {},
   "outputs": [],
   "source": [
    "X_train = df_train[predictors]\n",
    "y_train = df_train[\"y\"]"
   ]
  },
  {
   "cell_type": "code",
   "execution_count": 385,
   "metadata": {},
   "outputs": [
    {
     "name": "stdout",
     "output_type": "stream",
     "text": [
      "iomax iou 0.9866099983464108\n",
      "dice iou 0.9799397539257453\n",
      "dice iomax 0.9802335536133366\n",
      "precision_0.25 precision_0.0 0.9084102685138388\n",
      "f1_0.25 f1_0.0 0.9147757689106338\n"
     ]
    }
   ],
   "source": [
    "corr_matrix = X_train.corr()\n",
    "threshold = 0.9\n",
    "for i in range(len(corr_matrix.columns)):\n",
    "    for j in range(i):\n",
    "        if (corr_matrix.iloc[i, j] >= threshold):\n",
    "            print(corr_matrix.columns[i], corr_matrix.columns[j], corr_matrix.iloc[i, j])"
   ]
  },
  {
   "cell_type": "code",
   "execution_count": 386,
   "metadata": {},
   "outputs": [],
   "source": [
    "# To be used within GridSearch (5 in your case)\n",
    "inner_cv = GroupKFold(n_splits=5)\n",
    "\n",
    "# To be used in outer CV (you asked for 10)\n",
    "outer_cv = GroupKFold(n_splits=10)"
   ]
  },
  {
   "cell_type": "code",
   "execution_count": 387,
   "metadata": {},
   "outputs": [],
   "source": [
    "from sklearn.base import BaseEstimator \n",
    "from sklearn.base import RegressorMixin\n",
    "\n",
    "\n",
    "class CustomRegressor(BaseEstimator, RegressorMixin):\n",
    "    def __init__(self, **estimator_params):\n",
    "        super().__init__()\n",
    "        self.base_model = lightgbm.LGBMRegressor(random_state=24, objective=\"regression_l1\")\n",
    "        self.base_model.set_params(**estimator_params)\n",
    "\n",
    "    def fit(self, X, y=None):\n",
    "        self.base_model.fit(X, y)\n",
    "        return self\n",
    "\n",
    "    def predict(self, X):\n",
    "        y = self.base_model.predict(X)\n",
    "        y[X.false_positive == 1] = 1\n",
    "        y[(X.area_model + X.area_expert) == 0] = 5\n",
    "        y = np.round(y, 0)\n",
    "        return y\n",
    "    \n",
    "    def get_params(self, **params):\n",
    "        return self.base_model.get_params()\n",
    "    \n",
    "    def set_params(self, **params):\n",
    "        self.base_model = self.base_model.set_params(**params)\n",
    "        return self"
   ]
  },
  {
   "cell_type": "code",
   "execution_count": 388,
   "metadata": {},
   "outputs": [],
   "source": [
    "model = CustomRegressor()\n",
    "param_grid = {\n",
    "    \"n_estimators\": [10, 50, 100, 200, 300],\n",
    "    \"colsample_bytree\": [0.1, 0.25, 0.5, 0.75, 1.0],\n",
    "    \"min_child_samples\": [1, 3, 5, 10, 20],\n",
    "    \"num_leaves\": [5, 7, 15, 31, 63],\n",
    "    \"zero_as_missing\": [False, True],\n",
    "    # \"lambda_l1\": [0.0, 0.1, 1.0],\n",
    "    # \"lambda_l2\": [0.0, 0.1, 1.0]\n",
    "}"
   ]
  },
  {
   "cell_type": "code",
   "execution_count": 389,
   "metadata": {
    "scrolled": true
   },
   "outputs": [
    {
     "name": "stdout",
     "output_type": "stream",
     "text": [
      "Fitting 5 folds for each of 1250 candidates, totalling 6250 fits\n"
     ]
    },
    {
     "name": "stderr",
     "output_type": "stream",
     "text": [
      "[Parallel(n_jobs=-1)]: Using backend LokyBackend with 12 concurrent workers.\n",
      "[Parallel(n_jobs=-1)]: Done  26 tasks      | elapsed:    1.4s\n",
      "[Parallel(n_jobs=-1)]: Done 440 tasks      | elapsed:    3.9s\n",
      "[Parallel(n_jobs=-1)]: Done 1656 tasks      | elapsed:    9.7s\n",
      "[Parallel(n_jobs=-1)]: Done 3232 tasks      | elapsed:   19.7s\n",
      "[Parallel(n_jobs=-1)]: Done 4952 tasks      | elapsed:   32.3s\n",
      "[Parallel(n_jobs=-1)]: Done 6250 out of 6250 | elapsed:   45.0s finished\n",
      "[Parallel(n_jobs=-1)]: Using backend LokyBackend with 12 concurrent workers.\n"
     ]
    },
    {
     "name": "stdout",
     "output_type": "stream",
     "text": [
      "Fitting 5 folds for each of 1250 candidates, totalling 6250 fits\n"
     ]
    },
    {
     "name": "stderr",
     "output_type": "stream",
     "text": [
      "[Parallel(n_jobs=-1)]: Done  28 tasks      | elapsed:    0.2s\n",
      "[Parallel(n_jobs=-1)]: Done 1000 tasks      | elapsed:    4.5s\n",
      "[Parallel(n_jobs=-1)]: Done 3000 tasks      | elapsed:   15.9s\n",
      "[Parallel(n_jobs=-1)]: Done 4384 tasks      | elapsed:   26.6s\n",
      "[Parallel(n_jobs=-1)]: Done 5876 tasks      | elapsed:   40.6s\n",
      "[Parallel(n_jobs=-1)]: Done 6250 out of 6250 | elapsed:   42.8s finished\n",
      "[Parallel(n_jobs=-1)]: Using backend LokyBackend with 12 concurrent workers.\n"
     ]
    },
    {
     "name": "stdout",
     "output_type": "stream",
     "text": [
      "Fitting 5 folds for each of 1250 candidates, totalling 6250 fits\n"
     ]
    },
    {
     "name": "stderr",
     "output_type": "stream",
     "text": [
      "[Parallel(n_jobs=-1)]: Done  28 tasks      | elapsed:    0.2s\n",
      "[Parallel(n_jobs=-1)]: Done 1000 tasks      | elapsed:    4.5s\n",
      "[Parallel(n_jobs=-1)]: Done 3000 tasks      | elapsed:   15.8s\n",
      "[Parallel(n_jobs=-1)]: Done 4280 tasks      | elapsed:   25.9s\n",
      "[Parallel(n_jobs=-1)]: Done 5586 tasks      | elapsed:   38.0s\n",
      "[Parallel(n_jobs=-1)]: Done 6227 out of 6250 | elapsed:   42.7s remaining:    0.2s\n",
      "[Parallel(n_jobs=-1)]: Done 6250 out of 6250 | elapsed:   42.9s finished\n",
      "[Parallel(n_jobs=-1)]: Using backend LokyBackend with 12 concurrent workers.\n"
     ]
    },
    {
     "name": "stdout",
     "output_type": "stream",
     "text": [
      "Fitting 5 folds for each of 1250 candidates, totalling 6250 fits\n"
     ]
    },
    {
     "name": "stderr",
     "output_type": "stream",
     "text": [
      "[Parallel(n_jobs=-1)]: Done  28 tasks      | elapsed:    0.2s\n",
      "[Parallel(n_jobs=-1)]: Done 1000 tasks      | elapsed:    4.6s\n",
      "[Parallel(n_jobs=-1)]: Done 2979 tasks      | elapsed:   16.3s\n",
      "[Parallel(n_jobs=-1)]: Done 3956 tasks      | elapsed:   23.5s\n",
      "[Parallel(n_jobs=-1)]: Done 5120 tasks      | elapsed:   33.2s\n",
      "[Parallel(n_jobs=-1)]: Done 6250 out of 6250 | elapsed:   45.2s finished\n",
      "[Parallel(n_jobs=-1)]: Using backend LokyBackend with 12 concurrent workers.\n",
      "[Parallel(n_jobs=-1)]: Done  28 tasks      | elapsed:    0.2s\n"
     ]
    },
    {
     "name": "stdout",
     "output_type": "stream",
     "text": [
      "Fitting 5 folds for each of 1250 candidates, totalling 6250 fits\n"
     ]
    },
    {
     "name": "stderr",
     "output_type": "stream",
     "text": [
      "[Parallel(n_jobs=-1)]: Done 1000 tasks      | elapsed:    4.5s\n",
      "[Parallel(n_jobs=-1)]: Done 3000 tasks      | elapsed:   15.9s\n",
      "[Parallel(n_jobs=-1)]: Done 4220 tasks      | elapsed:   25.7s\n",
      "[Parallel(n_jobs=-1)]: Done 5510 tasks      | elapsed:   38.1s\n",
      "[Parallel(n_jobs=-1)]: Done 6250 out of 6250 | elapsed:   43.3s finished\n",
      "[Parallel(n_jobs=-1)]: Using backend LokyBackend with 12 concurrent workers.\n"
     ]
    },
    {
     "name": "stdout",
     "output_type": "stream",
     "text": [
      "Fitting 5 folds for each of 1250 candidates, totalling 6250 fits\n"
     ]
    },
    {
     "name": "stderr",
     "output_type": "stream",
     "text": [
      "[Parallel(n_jobs=-1)]: Done  28 tasks      | elapsed:    0.2s\n",
      "[Parallel(n_jobs=-1)]: Done 1000 tasks      | elapsed:    4.5s\n",
      "[Parallel(n_jobs=-1)]: Done 3000 tasks      | elapsed:   15.7s\n",
      "[Parallel(n_jobs=-1)]: Done 4286 tasks      | elapsed:   25.7s\n",
      "[Parallel(n_jobs=-1)]: Done 5459 tasks      | elapsed:   36.8s\n",
      "[Parallel(n_jobs=-1)]: Done 6227 out of 6250 | elapsed:   42.9s remaining:    0.2s\n",
      "[Parallel(n_jobs=-1)]: Done 6250 out of 6250 | elapsed:   43.0s finished\n",
      "[Parallel(n_jobs=-1)]: Using backend LokyBackend with 12 concurrent workers.\n"
     ]
    },
    {
     "name": "stdout",
     "output_type": "stream",
     "text": [
      "Fitting 5 folds for each of 1250 candidates, totalling 6250 fits\n"
     ]
    },
    {
     "name": "stderr",
     "output_type": "stream",
     "text": [
      "[Parallel(n_jobs=-1)]: Done  28 tasks      | elapsed:    0.2s\n",
      "[Parallel(n_jobs=-1)]: Done 1000 tasks      | elapsed:    4.5s\n",
      "[Parallel(n_jobs=-1)]: Done 3000 tasks      | elapsed:   15.9s\n",
      "[Parallel(n_jobs=-1)]: Done 4280 tasks      | elapsed:   25.9s\n",
      "[Parallel(n_jobs=-1)]: Done 5462 tasks      | elapsed:   37.1s\n",
      "[Parallel(n_jobs=-1)]: Done 6250 out of 6250 | elapsed:   43.2s finished\n",
      "[Parallel(n_jobs=-1)]: Using backend LokyBackend with 12 concurrent workers.\n"
     ]
    },
    {
     "name": "stdout",
     "output_type": "stream",
     "text": [
      "Fitting 5 folds for each of 1250 candidates, totalling 6250 fits\n"
     ]
    },
    {
     "name": "stderr",
     "output_type": "stream",
     "text": [
      "[Parallel(n_jobs=-1)]: Done  28 tasks      | elapsed:    0.2s\n",
      "[Parallel(n_jobs=-1)]: Done 1000 tasks      | elapsed:    4.5s\n",
      "[Parallel(n_jobs=-1)]: Done 3000 tasks      | elapsed:   15.9s\n",
      "[Parallel(n_jobs=-1)]: Done 4377 tasks      | elapsed:   26.6s\n",
      "[Parallel(n_jobs=-1)]: Done 5840 tasks      | elapsed:   40.7s\n",
      "[Parallel(n_jobs=-1)]: Done 6250 out of 6250 | elapsed:   43.1s finished\n",
      "[Parallel(n_jobs=-1)]: Using backend LokyBackend with 12 concurrent workers.\n"
     ]
    },
    {
     "name": "stdout",
     "output_type": "stream",
     "text": [
      "Fitting 5 folds for each of 1250 candidates, totalling 6250 fits\n"
     ]
    },
    {
     "name": "stderr",
     "output_type": "stream",
     "text": [
      "[Parallel(n_jobs=-1)]: Done  28 tasks      | elapsed:    0.2s\n",
      "[Parallel(n_jobs=-1)]: Done 1000 tasks      | elapsed:    4.5s\n",
      "[Parallel(n_jobs=-1)]: Done 3000 tasks      | elapsed:   15.7s\n",
      "[Parallel(n_jobs=-1)]: Done 4377 tasks      | elapsed:   26.6s\n",
      "[Parallel(n_jobs=-1)]: Done 5459 tasks      | elapsed:   37.6s\n",
      "[Parallel(n_jobs=-1)]: Done 6227 out of 6250 | elapsed:   44.1s remaining:    0.2s\n",
      "[Parallel(n_jobs=-1)]: Done 6250 out of 6250 | elapsed:   44.2s finished\n",
      "[Parallel(n_jobs=-1)]: Using backend LokyBackend with 12 concurrent workers.\n"
     ]
    },
    {
     "name": "stdout",
     "output_type": "stream",
     "text": [
      "Fitting 5 folds for each of 1250 candidates, totalling 6250 fits\n"
     ]
    },
    {
     "name": "stderr",
     "output_type": "stream",
     "text": [
      "[Parallel(n_jobs=-1)]: Done  28 tasks      | elapsed:    0.2s\n",
      "[Parallel(n_jobs=-1)]: Done 1000 tasks      | elapsed:    4.7s\n",
      "[Parallel(n_jobs=-1)]: Done 3000 tasks      | elapsed:   16.1s\n",
      "[Parallel(n_jobs=-1)]: Done 4377 tasks      | elapsed:   26.6s\n",
      "[Parallel(n_jobs=-1)]: Done 5628 tasks      | elapsed:   38.4s\n",
      "[Parallel(n_jobs=-1)]: Done 6250 out of 6250 | elapsed:   42.9s finished\n"
     ]
    }
   ],
   "source": [
    "pred_y = []\n",
    "true_y = []\n",
    "for train_index, test_index in outer_cv.split(X_train, y_train, groups=df_train.fname):\n",
    "    X_tr, X_tt = X_train.iloc[train_index,:], X_train.iloc[test_index,:]\n",
    "    y_tr, y_tt = y_train.iloc[train_index], y_train.iloc[test_index]\n",
    "    groups_tt = df_train.fname.iloc[train_index]\n",
    "\n",
    "    clf = GridSearchCV(estimator=model, param_grid=param_grid, cv=inner_cv, verbose=True, n_jobs=-1, scoring=\"neg_mean_absolute_error\")\n",
    "    clf.fit(X_tr,y_tr, groups=groups_tt)\n",
    "\n",
    "    pred = clf.predict(X_tt)   \n",
    "    pred_y.extend(pred)\n",
    "    true_y.extend(y_tt)"
   ]
  },
  {
   "cell_type": "code",
   "execution_count": 390,
   "metadata": {
    "scrolled": true
   },
   "outputs": [],
   "source": [
    "nested_score = metrics.mean_absolute_error(true_y, pred_y)\n",
    "nested_accuracy = metrics.accuracy_score(true_y, pred_y)"
   ]
  },
  {
   "cell_type": "code",
   "execution_count": 391,
   "metadata": {},
   "outputs": [
    {
     "name": "stderr",
     "output_type": "stream",
     "text": [
      "[Parallel(n_jobs=-1)]: Using backend LokyBackend with 12 concurrent workers.\n"
     ]
    },
    {
     "name": "stdout",
     "output_type": "stream",
     "text": [
      "Fitting 5 folds for each of 1250 candidates, totalling 6250 fits\n"
     ]
    },
    {
     "name": "stderr",
     "output_type": "stream",
     "text": [
      "[Parallel(n_jobs=-1)]: Done  28 tasks      | elapsed:    0.2s\n",
      "[Parallel(n_jobs=-1)]: Done 584 tasks      | elapsed:    3.2s\n",
      "[Parallel(n_jobs=-1)]: Done 1584 tasks      | elapsed:    7.7s\n",
      "[Parallel(n_jobs=-1)]: Done 2984 tasks      | elapsed:   17.2s\n",
      "[Parallel(n_jobs=-1)]: Done 4504 tasks      | elapsed:   30.6s\n",
      "[Parallel(n_jobs=-1)]: Done 5928 tasks      | elapsed:   45.6s\n",
      "[Parallel(n_jobs=-1)]: Done 6227 out of 6250 | elapsed:   47.3s remaining:    0.2s\n",
      "[Parallel(n_jobs=-1)]: Done 6250 out of 6250 | elapsed:   47.5s finished\n"
     ]
    }
   ],
   "source": [
    "clf = GridSearchCV(estimator=model, param_grid=param_grid, cv=inner_cv, n_jobs=-1, refit=True, verbose=True, scoring=\"neg_mean_absolute_error\")\n",
    "clf.fit(X_train, y_train, groups=df_train.fname)\n",
    "non_nested_score = -clf.best_score_"
   ]
  },
  {
   "cell_type": "code",
   "execution_count": 392,
   "metadata": {},
   "outputs": [
    {
     "data": {
      "text/plain": [
       "{'colsample_bytree': 0.1,\n",
       " 'min_child_samples': 1,\n",
       " 'n_estimators': 100,\n",
       " 'num_leaves': 5,\n",
       " 'zero_as_missing': True}"
      ]
     },
     "execution_count": 392,
     "metadata": {},
     "output_type": "execute_result"
    }
   ],
   "source": [
    "clf.best_params_"
   ]
  },
  {
   "cell_type": "code",
   "execution_count": 393,
   "metadata": {},
   "outputs": [
    {
     "name": "stdout",
     "output_type": "stream",
     "text": [
      "All predictors 0.46111111111111114 0.6166666666666667 0.45\n"
     ]
    }
   ],
   "source": [
    "print(\"All predictors\", nested_score, nested_accuracy, non_nested_score)"
   ]
  },
  {
   "cell_type": "code",
   "execution_count": 394,
   "metadata": {},
   "outputs": [
    {
     "name": "stderr",
     "output_type": "stream",
     "text": [
      "invalid value encountered in true_divide\n"
     ]
    },
    {
     "data": {
      "image/png": "[encoded data removed]",
      "text/plain": [
       "<Figure size 576x684 with 2 Axes>"
      ]
     },
     "metadata": {},
     "output_type": "display_data"
    }
   ],
   "source": [
    "explainer = shap.TreeExplainer(clf.best_estimator_.base_model)\n",
    "shap_values = explainer.shap_values(X_train)\n",
    "shap.summary_plot(shap_values, X_train, axis_color=\"white\")"
   ]
  },
  {
   "cell_type": "code",
   "execution_count": 395,
   "metadata": {},
   "outputs": [],
   "source": [
    "model = model.set_params(**clf.best_params_)\n",
    "df_train['prediction'] = cross_val_predict(model, X_train, y_train, cv=inner_cv, groups=df_train.fname)\n",
    "df_test['prediction'] = clf.predict(df_test[predictors])"
   ]
  },
  {
   "cell_type": "code",
   "execution_count": 396,
   "metadata": {},
   "outputs": [],
   "source": [
    "def rand_jitter(arr):\n",
    "    stdev = .02 * (max(arr) - min(arr))\n",
    "    return arr + np.random.randn(len(arr)) * stdev"
   ]
  },
  {
   "cell_type": "code",
   "execution_count": 397,
   "metadata": {},
   "outputs": [],
   "source": [
    "df_train['prediction_jitter'] = rand_jitter(df_train.prediction)"
   ]
  },
  {
   "cell_type": "code",
   "execution_count": 398,
   "metadata": {},
   "outputs": [
    {
     "data": {
      "text/plain": [
       "<matplotlib.axes._subplots.AxesSubplot at 0x7f8fb58b3fd0>"
      ]
     },
     "execution_count": 398,
     "metadata": {},
     "output_type": "execute_result"
    },
    {
     "data": {
      "image/png": "[encoded data removed]",
      "text/plain": [
       "<Figure size 576x576 with 1 Axes>"
      ]
     },
     "metadata": {
      "needs_background": "light"
     },
     "output_type": "display_data"
    }
   ],
   "source": [
    "df_train.plot.scatter(\"y\", \"prediction_jitter\", figsize=(8, 8))"
   ]
  },
  {
   "cell_type": "code",
   "execution_count": 399,
   "metadata": {
    "scrolled": true
   },
   "outputs": [
    {
     "data": {
      "text/plain": [
       "robust_hausdorff             -0.679425\n",
       "dist                         -0.532196\n",
       "dist_inv                     -0.513163\n",
       "ncomponents_abs_diff         -0.383297\n",
       "false_negative               -0.348899\n",
       "hausdorff                    -0.228700\n",
       "Cardiomegaly                 -0.222196\n",
       "false_positive               -0.220380\n",
       "No Finding                   -0.172717\n",
       "area_abs_diff                -0.138702\n",
       "Atelectasis                  -0.136512\n",
       "sample_name                  -0.130815\n",
       "hausdorff_inv                -0.121332\n",
       "Fracture                     -0.098530\n",
       "Edema                        -0.078394\n",
       "Emphysema                    -0.067645\n",
       "Hernia                       -0.049515\n",
       "Effusion                     -0.047839\n",
       "Infiltration                 -0.025480\n",
       "positive_gt                  -0.015859\n",
       "ncomponents                  -0.010311\n",
       "No Finding Sum                0.008730\n",
       "Pneumothorax                  0.023859\n",
       "Lung Opacity                  0.043457\n",
       "Pleural_Thickening            0.049094\n",
       "Pneumonia                     0.050276\n",
       "ncomponents_model             0.052055\n",
       "Consolidation                 0.088686\n",
       "Enlarged Cardiomediastinum    0.095908\n",
       "Lung Lesion                   0.109083\n",
       "area_model                    0.116341\n",
       "area_expert                   0.126206\n",
       "Mass                          0.145054\n",
       "Fibrosis                      0.147194\n",
       "ssim                          0.160405\n",
       "Nodule                        0.183918\n",
       "precision_0.5                 0.320626\n",
       "precision_0.0                 0.386782\n",
       "precision_0.25                0.408464\n",
       "true                          0.421967\n",
       "recall_0.5                    0.449095\n",
       "dice_at_tolerance             0.530971\n",
       "recall_0.0                    0.566940\n",
       "recall_0.25                   0.589426\n",
       "f1_0.5                        0.606862\n",
       "iomin                         0.624097\n",
       "f1_0.0                        0.714083\n",
       "f1_0.25                       0.732509\n",
       "iou                           0.735455\n",
       "iomax                         0.737239\n",
       "dice                          0.766292\n",
       "prediction                    0.823877\n",
       "prediction_jitter             0.824520\n",
       "y                             1.000000\n",
       "Name: y, dtype: float64"
      ]
     },
     "execution_count": 399,
     "metadata": {},
     "output_type": "execute_result"
    }
   ],
   "source": [
    "df_train.corr()['y'].sort_values()"
   ]
  },
  {
   "cell_type": "code",
   "execution_count": 400,
   "metadata": {},
   "outputs": [
    {
     "data": {
      "text/plain": [
       "<matplotlib.axes._subplots.AxesSubplot at 0x7f8fb5e60828>"
      ]
     },
     "execution_count": 400,
     "metadata": {},
     "output_type": "execute_result"
    },
    {
     "data": {
      "image/png": "[encoded data removed]",
      "text/plain": [
       "<Figure size 432x288 with 1 Axes>"
      ]
     },
     "metadata": {
      "needs_background": "light"
     },
     "output_type": "display_data"
    }
   ],
   "source": [
    "df_test.prediction.hist()"
   ]
  },
  {
   "cell_type": "code",
   "execution_count": 401,
   "metadata": {},
   "outputs": [
    {
     "data": {
      "text/plain": [
       "<matplotlib.axes._subplots.AxesSubplot at 0x7f8fb581ae48>"
      ]
     },
     "execution_count": 401,
     "metadata": {},
     "output_type": "execute_result"
    },
    {
     "data": {
      "image/png": "[encoded data removed]",
      "text/plain": [
       "<Figure size 432x288 with 1 Axes>"
      ]
     },
     "metadata": {
      "needs_background": "light"
     },
     "output_type": "display_data"
    }
   ],
   "source": [
    "df_train.y.hist()"
   ]
  },
  {
   "cell_type": "code",
   "execution_count": null,
   "metadata": {},
   "outputs": [],
   "source": []
  }
 ],
 "metadata": {
  "kernelspec": {
   "display_name": "medicine",
   "language": "python",
   "name": "medicine"
  },
  "language_info": {
   "codemirror_mode": {
    "name": "ipython",
    "version": 3
   },
   "file_extension": ".py",
   "mimetype": "text/x-python",
   "name": "python",
   "nbconvert_exporter": "python",
   "pygments_lexer": "ipython3",
   "version": "3.6.8"
  }
 },
 "nbformat": 4,
 "nbformat_minor": 2
}
