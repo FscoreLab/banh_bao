{
 "cells": [
  {
   "cell_type": "code",
   "execution_count": 271,
   "metadata": {},
   "outputs": [],
   "source": [
    "import lightgbm\n",
    "from sklearn.model_selection import GroupKFold, GridSearchCV, cross_validate, train_test_split, cross_val_score, cross_val_predict\n",
    "import pandas as pd\n",
    "import shap\n",
    "from sklearn import metrics\n",
    "from sklearn.feature_selection import SelectKBest\n",
    "import numpy as np\n",
    "from sklearn.feature_selection import mutual_info_regression"
   ]
  },
  {
   "cell_type": "code",
   "execution_count": 272,
   "metadata": {},
   "outputs": [],
   "source": [
    "df = pd.read_csv(\"../data/interim/sample.csv\")\n",
    "df1 = pd.read_csv(\"../data/interim/model_torchxray.csv\")\n",
    "df1.drop([\"gt_sum\", \"gt_sum_pos\"], axis=1, inplace=True)"
   ]
  },
  {
   "cell_type": "code",
   "execution_count": 273,
   "metadata": {},
   "outputs": [],
   "source": [
    "df = pd.merge(df, df1, on=\"fname\")"
   ]
  },
  {
   "cell_type": "code",
   "execution_count": 274,
   "metadata": {
    "scrolled": true
   },
   "outputs": [],
   "source": [
    "df[\"false_positive\"] = ~df.true & ~df.positive_gt\n",
    "df[\"false_negative\"] = ~df.true & df.positive_gt"
   ]
  },
  {
   "cell_type": "code",
   "execution_count": 275,
   "metadata": {},
   "outputs": [],
   "source": [
    "df[['iou', 'iomax', 'dice_at_tolerance']] = df[['iou', 'iomax', 'dice_at_tolerance']].fillna(1.0)\n",
    "df.loc[~df.positive_gt & df.true, \"iomin\"] = df.loc[~df.positive_gt & df.true, \"iomin\"].fillna(1.0)\n",
    "df[\"iomin\"].fillna(0.0, inplace=True)"
   ]
  },
  {
   "cell_type": "code",
   "execution_count": 276,
   "metadata": {},
   "outputs": [
    {
     "data": {
      "text/html": [
       "<div>\n",
       "<style scoped>\n",
       "    .dataframe tbody tr th:only-of-type {\n",
       "        vertical-align: middle;\n",
       "    }\n",
       "\n",
       "    .dataframe tbody tr th {\n",
       "        vertical-align: top;\n",
       "    }\n",
       "\n",
       "    .dataframe thead th {\n",
       "        text-align: right;\n",
       "    }\n",
       "</style>\n",
       "<table border=\"1\" class=\"dataframe\">\n",
       "  <thead>\n",
       "    <tr style=\"text-align: right;\">\n",
       "      <th></th>\n",
       "      <th>id</th>\n",
       "      <th>fname</th>\n",
       "      <th>sample_name</th>\n",
       "      <th>iou</th>\n",
       "      <th>iomin</th>\n",
       "      <th>iomax</th>\n",
       "      <th>dice</th>\n",
       "      <th>dice_el</th>\n",
       "      <th>dice_rect</th>\n",
       "      <th>true</th>\n",
       "      <th>...</th>\n",
       "      <th>Mass</th>\n",
       "      <th>Hernia</th>\n",
       "      <th>Lung Lesion</th>\n",
       "      <th>Fracture</th>\n",
       "      <th>Lung Opacity</th>\n",
       "      <th>Enlarged Cardiomediastinum</th>\n",
       "      <th>No Finding</th>\n",
       "      <th>No Finding Sum</th>\n",
       "      <th>false_positive</th>\n",
       "      <th>false_negative</th>\n",
       "    </tr>\n",
       "  </thead>\n",
       "  <tbody>\n",
       "    <tr>\n",
       "      <th>0</th>\n",
       "      <td>00000181_061_1</td>\n",
       "      <td>00000181_061</td>\n",
       "      <td>1</td>\n",
       "      <td>0.350949</td>\n",
       "      <td>0.985127</td>\n",
       "      <td>0.352818</td>\n",
       "      <td>0.519561</td>\n",
       "      <td>0.475900</td>\n",
       "      <td>0.478880</td>\n",
       "      <td>True</td>\n",
       "      <td>...</td>\n",
       "      <td>0.547738</td>\n",
       "      <td>0.012142</td>\n",
       "      <td>0.139100</td>\n",
       "      <td>0.523429</td>\n",
       "      <td>0.593831</td>\n",
       "      <td>0.530269</td>\n",
       "      <td>0.398298</td>\n",
       "      <td>-8.776658</td>\n",
       "      <td>False</td>\n",
       "      <td>False</td>\n",
       "    </tr>\n",
       "    <tr>\n",
       "      <th>1</th>\n",
       "      <td>00000181_061_2</td>\n",
       "      <td>00000181_061</td>\n",
       "      <td>2</td>\n",
       "      <td>0.237160</td>\n",
       "      <td>1.000000</td>\n",
       "      <td>0.237160</td>\n",
       "      <td>0.383396</td>\n",
       "      <td>0.412101</td>\n",
       "      <td>0.418500</td>\n",
       "      <td>True</td>\n",
       "      <td>...</td>\n",
       "      <td>0.547738</td>\n",
       "      <td>0.012142</td>\n",
       "      <td>0.139100</td>\n",
       "      <td>0.523429</td>\n",
       "      <td>0.593831</td>\n",
       "      <td>0.530269</td>\n",
       "      <td>0.398298</td>\n",
       "      <td>-8.776658</td>\n",
       "      <td>False</td>\n",
       "      <td>False</td>\n",
       "    </tr>\n",
       "    <tr>\n",
       "      <th>2</th>\n",
       "      <td>00000181_061_3</td>\n",
       "      <td>00000181_061</td>\n",
       "      <td>3</td>\n",
       "      <td>0.381895</td>\n",
       "      <td>0.587954</td>\n",
       "      <td>0.521455</td>\n",
       "      <td>0.552716</td>\n",
       "      <td>0.494049</td>\n",
       "      <td>0.520759</td>\n",
       "      <td>True</td>\n",
       "      <td>...</td>\n",
       "      <td>0.547738</td>\n",
       "      <td>0.012142</td>\n",
       "      <td>0.139100</td>\n",
       "      <td>0.523429</td>\n",
       "      <td>0.593831</td>\n",
       "      <td>0.530269</td>\n",
       "      <td>0.398298</td>\n",
       "      <td>-8.776658</td>\n",
       "      <td>False</td>\n",
       "      <td>False</td>\n",
       "    </tr>\n",
       "    <tr>\n",
       "      <th>3</th>\n",
       "      <td>00013977_005_1</td>\n",
       "      <td>00013977_005</td>\n",
       "      <td>1</td>\n",
       "      <td>0.000000</td>\n",
       "      <td>0.000000</td>\n",
       "      <td>0.000000</td>\n",
       "      <td>0.000021</td>\n",
       "      <td>0.000027</td>\n",
       "      <td>0.000021</td>\n",
       "      <td>False</td>\n",
       "      <td>...</td>\n",
       "      <td>0.584497</td>\n",
       "      <td>0.014976</td>\n",
       "      <td>0.263935</td>\n",
       "      <td>0.111970</td>\n",
       "      <td>0.065350</td>\n",
       "      <td>0.386314</td>\n",
       "      <td>0.415503</td>\n",
       "      <td>-4.553343</td>\n",
       "      <td>False</td>\n",
       "      <td>True</td>\n",
       "    </tr>\n",
       "    <tr>\n",
       "      <th>4</th>\n",
       "      <td>00013977_005_2</td>\n",
       "      <td>00013977_005</td>\n",
       "      <td>2</td>\n",
       "      <td>0.791545</td>\n",
       "      <td>0.930406</td>\n",
       "      <td>0.841359</td>\n",
       "      <td>0.883646</td>\n",
       "      <td>0.896229</td>\n",
       "      <td>0.883646</td>\n",
       "      <td>True</td>\n",
       "      <td>...</td>\n",
       "      <td>0.584497</td>\n",
       "      <td>0.014976</td>\n",
       "      <td>0.263935</td>\n",
       "      <td>0.111970</td>\n",
       "      <td>0.065350</td>\n",
       "      <td>0.386314</td>\n",
       "      <td>0.415503</td>\n",
       "      <td>-4.553343</td>\n",
       "      <td>False</td>\n",
       "      <td>False</td>\n",
       "    </tr>\n",
       "  </tbody>\n",
       "</table>\n",
       "<p>5 rows × 66 columns</p>\n",
       "</div>"
      ],
      "text/plain": [
       "               id         fname  sample_name       iou     iomin     iomax  \\\n",
       "0  00000181_061_1  00000181_061            1  0.350949  0.985127  0.352818   \n",
       "1  00000181_061_2  00000181_061            2  0.237160  1.000000  0.237160   \n",
       "2  00000181_061_3  00000181_061            3  0.381895  0.587954  0.521455   \n",
       "3  00013977_005_1  00013977_005            1  0.000000  0.000000  0.000000   \n",
       "4  00013977_005_2  00013977_005            2  0.791545  0.930406  0.841359   \n",
       "\n",
       "       dice   dice_el  dice_rect   true  ...      Mass    Hernia  Lung Lesion  \\\n",
       "0  0.519561  0.475900   0.478880   True  ...  0.547738  0.012142     0.139100   \n",
       "1  0.383396  0.412101   0.418500   True  ...  0.547738  0.012142     0.139100   \n",
       "2  0.552716  0.494049   0.520759   True  ...  0.547738  0.012142     0.139100   \n",
       "3  0.000021  0.000027   0.000021  False  ...  0.584497  0.014976     0.263935   \n",
       "4  0.883646  0.896229   0.883646   True  ...  0.584497  0.014976     0.263935   \n",
       "\n",
       "   Fracture  Lung Opacity  Enlarged Cardiomediastinum  No Finding  \\\n",
       "0  0.523429      0.593831                    0.530269    0.398298   \n",
       "1  0.523429      0.593831                    0.530269    0.398298   \n",
       "2  0.523429      0.593831                    0.530269    0.398298   \n",
       "3  0.111970      0.065350                    0.386314    0.415503   \n",
       "4  0.111970      0.065350                    0.386314    0.415503   \n",
       "\n",
       "   No Finding Sum  false_positive  false_negative  \n",
       "0       -8.776658           False           False  \n",
       "1       -8.776658           False           False  \n",
       "2       -8.776658           False           False  \n",
       "3       -4.553343           False            True  \n",
       "4       -4.553343           False           False  \n",
       "\n",
       "[5 rows x 66 columns]"
      ]
     },
     "execution_count": 276,
     "metadata": {},
     "output_type": "execute_result"
    }
   ],
   "source": [
    "df.head(5)"
   ]
  },
  {
   "cell_type": "code",
   "execution_count": 277,
   "metadata": {},
   "outputs": [],
   "source": [
    "predictors = [col for col in df.columns if col not in [\"id\", \"fname\", \"sample_name\", \"y\", \"Unnamed: 0\"]]\n",
    "# predictors_metrics = [pred for pred in predictors if pred in [\"iou\", \"iomin\", \"iomax\", \"gt_sum\", \"gt_sum_pos\", \"true\", \"positive_gt\", \"false_positive\", \"false_negative\"]]"
   ]
  },
  {
   "cell_type": "code",
   "execution_count": 278,
   "metadata": {},
   "outputs": [],
   "source": [
    "fnames = list(df.fname.unique())\n",
    "# fnames_train, fnames_test = train_test_split(fnames, train_size=0.8, random_state=24, shuffle=True)"
   ]
  },
  {
   "cell_type": "code",
   "execution_count": 279,
   "metadata": {},
   "outputs": [],
   "source": [
    "# predictors = predictors_metrics"
   ]
  },
  {
   "cell_type": "code",
   "execution_count": 280,
   "metadata": {},
   "outputs": [],
   "source": [
    "df_train = df.loc[~pd.isnull(df.y)].copy()\n",
    "df_test = df = df.loc[pd.isnull(df.y)].copy()"
   ]
  },
  {
   "cell_type": "code",
   "execution_count": 281,
   "metadata": {
    "scrolled": true
   },
   "outputs": [
    {
     "data": {
      "text/plain": [
       "robust_hausdorff       -0.679425\n",
       "x_diff_center          -0.590955\n",
       "dist                   -0.532196\n",
       "dist_inv               -0.513163\n",
       "ncomponents_abs_diff   -0.383297\n",
       "                          ...   \n",
       "iomax                   0.737239\n",
       "dice_el                 0.753659\n",
       "dice_rect               0.763791\n",
       "dice                    0.766292\n",
       "y                       1.000000\n",
       "Name: y, Length: 63, dtype: float64"
      ]
     },
     "execution_count": 281,
     "metadata": {},
     "output_type": "execute_result"
    }
   ],
   "source": [
    "df_train.corr()[\"y\"].sort_values()"
   ]
  },
  {
   "cell_type": "code",
   "execution_count": 282,
   "metadata": {},
   "outputs": [],
   "source": [
    "X_train = df_train[predictors].fillna(0.0)\n",
    "X_train = X_train.replace([np.inf], 100000.0)\n",
    "df_test[predictors] = df_test[predictors].fillna(0.0)\n",
    "df_test = df_test.replace([np.inf], 100000.0)\n",
    "y_train = df_train[\"y\"]"
   ]
  },
  {
   "cell_type": "code",
   "execution_count": 283,
   "metadata": {
    "scrolled": true
   },
   "outputs": [
    {
     "name": "stdout",
     "output_type": "stream",
     "text": [
      "iomax iou 0.9866099983464108\n",
      "dice iou 0.9799397539257453\n",
      "dice iomax 0.9802335536133366\n",
      "dice_el iou 0.9715657199744687\n",
      "dice_el iomax 0.9660928588159197\n",
      "dice_el dice 0.9876787403482762\n",
      "dice_rect iou 0.9670128792357993\n",
      "dice_rect iomax 0.9668758610891093\n",
      "dice_rect dice 0.9893021364259863\n",
      "dice_rect dice_el 0.9953643944925447\n",
      "precision_0.25 precision_0.0 0.9084102685138388\n",
      "f1_0.25 f1_0.0 0.9147757689106338\n",
      "min_centroid_dist mean_centroid_dist 0.9125527408217419\n",
      "false_positive dist_inv 0.9999998657546093\n",
      "false_negative dist 0.999999924406309\n"
     ]
    }
   ],
   "source": [
    "corr_matrix = X_train.corr()\n",
    "threshold = 0.9\n",
    "for i in range(len(corr_matrix.columns)):\n",
    "    for j in range(i):\n",
    "        if (corr_matrix.iloc[i, j] >= threshold):\n",
    "            print(corr_matrix.columns[i], corr_matrix.columns[j], corr_matrix.iloc[i, j])"
   ]
  },
  {
   "cell_type": "code",
   "execution_count": 284,
   "metadata": {},
   "outputs": [],
   "source": [
    "# To be used within GridSearch (5 in your case)\n",
    "inner_cv = GroupKFold(n_splits=5)\n",
    "\n",
    "# To be used in outer CV (you asked for 10)\n",
    "outer_cv = GroupKFold(n_splits=10)"
   ]
  },
  {
   "cell_type": "code",
   "execution_count": 285,
   "metadata": {},
   "outputs": [],
   "source": [
    "from sklearn.base import BaseEstimator \n",
    "from sklearn.base import RegressorMixin\n",
    "\n",
    "# could not use Pipeline, sklearn doesn't allow cloning Pipelines\n",
    "class CustomRegressor(BaseEstimator, RegressorMixin):\n",
    "    def __init__(self, **estimator_params):\n",
    "        super().__init__()\n",
    "        self.selector = SelectKBest(score_func=mutual_info_regression, k=\"all\")\n",
    "        self.base_model = lightgbm.LGBMRegressor(random_state=24, objective=\"regression_l1\")\n",
    "        self.set_params(**estimator_params)\n",
    "\n",
    "    def fit(self, X, y=None):\n",
    "        X_tr = self.selector.fit_transform(X, y)\n",
    "        self.base_model.fit(X_tr, y)\n",
    "        return self\n",
    "\n",
    "    def predict(self, X):\n",
    "        X_tr = self.selector.transform(X)\n",
    "        y = self.base_model.predict(X_tr)\n",
    "        y[X.false_positive == 1] = 1\n",
    "        y[X.false_negative == 1] = 1\n",
    "        y[(X.area_model + X.area_expert) == 0] = 5\n",
    "        y = np.round(y, 0)\n",
    "        return y\n",
    "    \n",
    "    def get_params(self, **params):\n",
    "        pars = self.base_model.get_params()\n",
    "        pars[\"k\"] = self.selector.k\n",
    "        return pars\n",
    "    \n",
    "    def set_params(self, **params):\n",
    "        if \"k\" in params:\n",
    "            k = params.pop(\"k\")\n",
    "            self.selector = self.selector.set_params(k=k)\n",
    "        self.base_model = self.base_model.set_params(**params)\n",
    "        return self"
   ]
  },
  {
   "cell_type": "code",
   "execution_count": 286,
   "metadata": {},
   "outputs": [],
   "source": [
    "model = CustomRegressor()\n",
    "param_grid = {\n",
    "    \"n_estimators\": [50, 100, 200, 300],\n",
    "    \"colsample_bytree\": [0.25, 0.5, 0.75, 1.0],\n",
    "    \"min_child_samples\": [1, 3, 5, 10],\n",
    "    \"num_leaves\": [5, 7, 15, 31],\n",
    "    #\"zero_as_missing\": [False, True],\n",
    "    \"k\": [15, 30, len(predictors)],\n",
    "    \"lambda_l1\": [0.0, 0.1, 1.0],\n",
    "    # \"lambda_l2\": [0.0, 0.1, 1.0]\n",
    "}"
   ]
  },
  {
   "cell_type": "code",
   "execution_count": null,
   "metadata": {
    "scrolled": true
   },
   "outputs": [
    {
     "name": "stdout",
     "output_type": "stream",
     "text": [
      "Fitting 5 folds for each of 2304 candidates, totalling 11520 fits\n"
     ]
    },
    {
     "name": "stderr",
     "output_type": "stream",
     "text": [
      "[Parallel(n_jobs=-1)]: Using backend LokyBackend with 12 concurrent workers.\n",
      "[Parallel(n_jobs=-1)]: Done  26 tasks      | elapsed:    2.1s\n",
      "[Parallel(n_jobs=-1)]: Done 176 tasks      | elapsed:    5.7s\n",
      "[Parallel(n_jobs=-1)]: Done 426 tasks      | elapsed:   11.5s\n",
      "[Parallel(n_jobs=-1)]: Done 776 tasks      | elapsed:   19.6s\n",
      "[Parallel(n_jobs=-1)]: Done 1226 tasks      | elapsed:   30.2s\n",
      "[Parallel(n_jobs=-1)]: Done 1776 tasks      | elapsed:   44.9s\n",
      "[Parallel(n_jobs=-1)]: Done 2426 tasks      | elapsed:  1.0min\n",
      "[Parallel(n_jobs=-1)]: Done 3176 tasks      | elapsed:  1.3min\n",
      "[Parallel(n_jobs=-1)]: Done 4026 tasks      | elapsed:  1.6min\n",
      "[Parallel(n_jobs=-1)]: Done 4976 tasks      | elapsed:  2.0min\n",
      "[Parallel(n_jobs=-1)]: Done 6026 tasks      | elapsed:  2.5min\n",
      "[Parallel(n_jobs=-1)]: Done 7176 tasks      | elapsed:  3.1min\n",
      "[Parallel(n_jobs=-1)]: Done 8426 tasks      | elapsed:  3.6min\n",
      "[Parallel(n_jobs=-1)]: Done 9776 tasks      | elapsed:  4.1min\n",
      "[Parallel(n_jobs=-1)]: Done 11226 tasks      | elapsed:  4.8min\n",
      "[Parallel(n_jobs=-1)]: Done 11520 out of 11520 | elapsed:  4.9min finished\n",
      "[Parallel(n_jobs=-1)]: Using backend LokyBackend with 12 concurrent workers.\n"
     ]
    },
    {
     "name": "stdout",
     "output_type": "stream",
     "text": [
      "0.2777777777777778 0.7222222222222222\n",
      "Fitting 5 folds for each of 2304 candidates, totalling 11520 fits\n"
     ]
    },
    {
     "name": "stderr",
     "output_type": "stream",
     "text": [
      "[Parallel(n_jobs=-1)]: Done  26 tasks      | elapsed:    0.7s\n",
      "[Parallel(n_jobs=-1)]: Done 176 tasks      | elapsed:    4.2s\n",
      "[Parallel(n_jobs=-1)]: Done 426 tasks      | elapsed:    9.9s\n",
      "[Parallel(n_jobs=-1)]: Done 776 tasks      | elapsed:   17.9s\n",
      "[Parallel(n_jobs=-1)]: Done 1226 tasks      | elapsed:   28.4s\n",
      "[Parallel(n_jobs=-1)]: Done 1776 tasks      | elapsed:   41.6s\n",
      "[Parallel(n_jobs=-1)]: Done 2426 tasks      | elapsed:   57.6s\n",
      "[Parallel(n_jobs=-1)]: Done 3176 tasks      | elapsed:  1.3min\n",
      "[Parallel(n_jobs=-1)]: Done 4026 tasks      | elapsed:  1.6min\n",
      "[Parallel(n_jobs=-1)]: Done 4976 tasks      | elapsed:  2.0min\n",
      "[Parallel(n_jobs=-1)]: Done 6026 tasks      | elapsed:  2.4min\n",
      "[Parallel(n_jobs=-1)]: Done 7176 tasks      | elapsed:  2.9min\n",
      "[Parallel(n_jobs=-1)]: Done 8426 tasks      | elapsed:  3.5min\n",
      "[Parallel(n_jobs=-1)]: Done 9776 tasks      | elapsed:  4.0min\n",
      "[Parallel(n_jobs=-1)]: Done 11226 tasks      | elapsed:  4.7min\n",
      "[Parallel(n_jobs=-1)]: Done 11520 out of 11520 | elapsed:  4.8min finished\n",
      "[Parallel(n_jobs=-1)]: Using backend LokyBackend with 12 concurrent workers.\n"
     ]
    },
    {
     "name": "stdout",
     "output_type": "stream",
     "text": [
      "0.4444444444444444 0.5555555555555556\n",
      "Fitting 5 folds for each of 2304 candidates, totalling 11520 fits\n"
     ]
    },
    {
     "name": "stderr",
     "output_type": "stream",
     "text": [
      "[Parallel(n_jobs=-1)]: Done  26 tasks      | elapsed:    0.7s\n",
      "[Parallel(n_jobs=-1)]: Done 176 tasks      | elapsed:    4.2s\n",
      "[Parallel(n_jobs=-1)]: Done 426 tasks      | elapsed:    9.9s\n",
      "[Parallel(n_jobs=-1)]: Done 776 tasks      | elapsed:   17.8s\n",
      "[Parallel(n_jobs=-1)]: Done 1226 tasks      | elapsed:   28.2s\n",
      "[Parallel(n_jobs=-1)]: Done 1776 tasks      | elapsed:   41.2s\n",
      "[Parallel(n_jobs=-1)]: Done 2426 tasks      | elapsed:   58.0s\n",
      "[Parallel(n_jobs=-1)]: Done 3176 tasks      | elapsed:  1.3min\n",
      "[Parallel(n_jobs=-1)]: Done 4026 tasks      | elapsed:  1.6min\n",
      "[Parallel(n_jobs=-1)]: Done 4976 tasks      | elapsed:  2.0min\n",
      "[Parallel(n_jobs=-1)]: Done 6026 tasks      | elapsed:  2.5min\n",
      "[Parallel(n_jobs=-1)]: Done 7176 tasks      | elapsed:  2.9min\n",
      "[Parallel(n_jobs=-1)]: Done 8426 tasks      | elapsed:  3.5min\n",
      "[Parallel(n_jobs=-1)]: Done 9776 tasks      | elapsed:  4.1min\n",
      "[Parallel(n_jobs=-1)]: Done 11226 tasks      | elapsed:  4.7min\n",
      "[Parallel(n_jobs=-1)]: Done 11520 out of 11520 | elapsed:  4.9min finished\n",
      "[Parallel(n_jobs=-1)]: Using backend LokyBackend with 12 concurrent workers.\n"
     ]
    },
    {
     "name": "stdout",
     "output_type": "stream",
     "text": [
      "0.3888888888888889 0.6296296296296297\n",
      "Fitting 5 folds for each of 2304 candidates, totalling 11520 fits\n"
     ]
    },
    {
     "name": "stderr",
     "output_type": "stream",
     "text": [
      "[Parallel(n_jobs=-1)]: Done  26 tasks      | elapsed:    0.7s\n",
      "[Parallel(n_jobs=-1)]: Done 176 tasks      | elapsed:    4.3s\n",
      "[Parallel(n_jobs=-1)]: Done 426 tasks      | elapsed:    9.9s\n",
      "[Parallel(n_jobs=-1)]: Done 776 tasks      | elapsed:   18.0s\n",
      "[Parallel(n_jobs=-1)]: Done 1226 tasks      | elapsed:   28.5s\n",
      "[Parallel(n_jobs=-1)]: Done 1776 tasks      | elapsed:   41.6s\n",
      "[Parallel(n_jobs=-1)]: Done 2426 tasks      | elapsed:   58.3s\n",
      "[Parallel(n_jobs=-1)]: Done 3176 tasks      | elapsed:  1.3min\n",
      "[Parallel(n_jobs=-1)]: Done 4026 tasks      | elapsed:  1.6min\n",
      "[Parallel(n_jobs=-1)]: Done 4976 tasks      | elapsed:  2.0min\n",
      "[Parallel(n_jobs=-1)]: Done 6026 tasks      | elapsed:  2.5min\n",
      "[Parallel(n_jobs=-1)]: Done 7176 tasks      | elapsed:  2.9min\n",
      "[Parallel(n_jobs=-1)]: Done 8426 tasks      | elapsed:  3.5min\n",
      "[Parallel(n_jobs=-1)]: Done 9776 tasks      | elapsed:  4.0min\n",
      "[Parallel(n_jobs=-1)]: Done 11226 tasks      | elapsed:  4.7min\n",
      "[Parallel(n_jobs=-1)]: Done 11520 out of 11520 | elapsed:  4.8min finished\n",
      "[Parallel(n_jobs=-1)]: Using backend LokyBackend with 12 concurrent workers.\n"
     ]
    },
    {
     "name": "stdout",
     "output_type": "stream",
     "text": [
      "0.4305555555555556 0.6111111111111112\n",
      "Fitting 5 folds for each of 2304 candidates, totalling 11520 fits\n"
     ]
    },
    {
     "name": "stderr",
     "output_type": "stream",
     "text": [
      "[Parallel(n_jobs=-1)]: Done  28 tasks      | elapsed:    0.9s\n",
      "[Parallel(n_jobs=-1)]: Done 328 tasks      | elapsed:    7.3s\n",
      "[Parallel(n_jobs=-1)]: Done 828 tasks      | elapsed:   18.0s\n",
      "[Parallel(n_jobs=-1)]: Done 1528 tasks      | elapsed:   33.6s\n",
      "[Parallel(n_jobs=-1)]: Done 2428 tasks      | elapsed:   54.8s\n",
      "[Parallel(n_jobs=-1)]: Done 3528 tasks      | elapsed:  1.3min\n",
      "[Parallel(n_jobs=-1)]: Done 4828 tasks      | elapsed:  1.9min\n",
      "[Parallel(n_jobs=-1)]: Done 6328 tasks      | elapsed:  2.5min\n",
      "[Parallel(n_jobs=-1)]: Done 7494 tasks      | elapsed:  3.2min\n",
      "[Parallel(n_jobs=-1)]: Done 8444 tasks      | elapsed:  3.7min\n",
      "[Parallel(n_jobs=-1)]: Done 9494 tasks      | elapsed:  4.2min\n",
      "[Parallel(n_jobs=-1)]: Done 10644 tasks      | elapsed:  4.7min\n",
      "[Parallel(n_jobs=-1)]: Done 11520 out of 11520 | elapsed:  5.3min finished\n"
     ]
    },
    {
     "name": "stdout",
     "output_type": "stream",
     "text": [
      "0.4111111111111111 0.6444444444444445\n",
      "Fitting 5 folds for each of 2304 candidates, totalling 11520 fits\n"
     ]
    },
    {
     "name": "stderr",
     "output_type": "stream",
     "text": [
      "[Parallel(n_jobs=-1)]: Using backend LokyBackend with 12 concurrent workers.\n",
      "[Parallel(n_jobs=-1)]: Done  26 tasks      | elapsed:    0.7s\n",
      "[Parallel(n_jobs=-1)]: Done 176 tasks      | elapsed:    4.3s\n",
      "[Parallel(n_jobs=-1)]: Done 426 tasks      | elapsed:   10.6s\n",
      "[Parallel(n_jobs=-1)]: Done 776 tasks      | elapsed:   19.3s\n",
      "[Parallel(n_jobs=-1)]: Done 1226 tasks      | elapsed:   30.6s\n",
      "[Parallel(n_jobs=-1)]: Done 1776 tasks      | elapsed:   44.5s\n",
      "[Parallel(n_jobs=-1)]: Done 2426 tasks      | elapsed:  1.1min\n",
      "[Parallel(n_jobs=-1)]: Done 3176 tasks      | elapsed:  1.5min\n",
      "[Parallel(n_jobs=-1)]: Done 4026 tasks      | elapsed:  1.9min\n",
      "[Parallel(n_jobs=-1)]: Done 4976 tasks      | elapsed:  2.3min\n",
      "[Parallel(n_jobs=-1)]: Done 6026 tasks      | elapsed:  2.9min\n",
      "[Parallel(n_jobs=-1)]: Done 7176 tasks      | elapsed:  3.5min\n",
      "[Parallel(n_jobs=-1)]: Done 8426 tasks      | elapsed:  4.1min\n",
      "[Parallel(n_jobs=-1)]: Done 9776 tasks      | elapsed:  4.7min\n",
      "[Parallel(n_jobs=-1)]: Done 11226 tasks      | elapsed:  5.3min\n",
      "[Parallel(n_jobs=-1)]: Done 11520 out of 11520 | elapsed:  5.5min finished\n"
     ]
    },
    {
     "name": "stdout",
     "output_type": "stream",
     "text": [
      "0.5 0.6111111111111112\n",
      "Fitting 5 folds for each of 2304 candidates, totalling 11520 fits\n"
     ]
    },
    {
     "name": "stderr",
     "output_type": "stream",
     "text": [
      "[Parallel(n_jobs=-1)]: Using backend LokyBackend with 12 concurrent workers.\n",
      "[Parallel(n_jobs=-1)]: Done  26 tasks      | elapsed:    0.7s\n",
      "[Parallel(n_jobs=-1)]: Done 176 tasks      | elapsed:    4.4s\n",
      "[Parallel(n_jobs=-1)]: Done 426 tasks      | elapsed:   10.3s\n",
      "[Parallel(n_jobs=-1)]: Done 776 tasks      | elapsed:   19.0s\n",
      "[Parallel(n_jobs=-1)]: Done 1226 tasks      | elapsed:   31.0s\n",
      "[Parallel(n_jobs=-1)]: Done 1776 tasks      | elapsed:   47.6s\n",
      "[Parallel(n_jobs=-1)]: Done 2426 tasks      | elapsed:  1.1min\n",
      "[Parallel(n_jobs=-1)]: Done 3176 tasks      | elapsed:  1.4min\n",
      "[Parallel(n_jobs=-1)]: Done 4026 tasks      | elapsed:  1.7min\n",
      "[Parallel(n_jobs=-1)]: Done 4976 tasks      | elapsed:  2.2min\n",
      "[Parallel(n_jobs=-1)]: Done 6026 tasks      | elapsed:  2.7min\n",
      "[Parallel(n_jobs=-1)]: Done 7176 tasks      | elapsed:  3.3min\n",
      "[Parallel(n_jobs=-1)]: Done 8426 tasks      | elapsed:  4.0min\n",
      "[Parallel(n_jobs=-1)]: Done 9776 tasks      | elapsed:  4.6min\n",
      "[Parallel(n_jobs=-1)]: Done 11226 tasks      | elapsed:  5.3min\n",
      "[Parallel(n_jobs=-1)]: Done 11520 out of 11520 | elapsed:  5.6min finished\n"
     ]
    },
    {
     "name": "stdout",
     "output_type": "stream",
     "text": [
      "0.49206349206349204 0.6190476190476191\n",
      "Fitting 5 folds for each of 2304 candidates, totalling 11520 fits\n"
     ]
    },
    {
     "name": "stderr",
     "output_type": "stream",
     "text": [
      "[Parallel(n_jobs=-1)]: Using backend LokyBackend with 12 concurrent workers.\n",
      "[Parallel(n_jobs=-1)]: Done  26 tasks      | elapsed:    1.1s\n",
      "[Parallel(n_jobs=-1)]: Done 176 tasks      | elapsed:    5.9s\n",
      "[Parallel(n_jobs=-1)]: Done 426 tasks      | elapsed:   12.7s\n",
      "[Parallel(n_jobs=-1)]: Done 776 tasks      | elapsed:   22.0s\n",
      "[Parallel(n_jobs=-1)]: Done 1226 tasks      | elapsed:   33.3s\n",
      "[Parallel(n_jobs=-1)]: Done 1776 tasks      | elapsed:   46.7s\n",
      "[Parallel(n_jobs=-1)]: Done 2426 tasks      | elapsed:  1.1min\n",
      "[Parallel(n_jobs=-1)]: Done 3176 tasks      | elapsed:  1.4min\n",
      "[Parallel(n_jobs=-1)]: Done 4026 tasks      | elapsed:  1.9min\n",
      "[Parallel(n_jobs=-1)]: Done 4976 tasks      | elapsed:  2.4min\n"
     ]
    }
   ],
   "source": [
    "pred_y = []\n",
    "true_y = []\n",
    "for train_index, test_index in outer_cv.split(X_train, y_train, groups=df_train.fname):\n",
    "    X_tr, X_tt = X_train.iloc[train_index,:], X_train.iloc[test_index,:]\n",
    "    y_tr, y_tt = y_train.iloc[train_index], y_train.iloc[test_index]\n",
    "    groups_tt = df_train.fname.iloc[train_index]\n",
    "\n",
    "    clf = GridSearchCV(estimator=model, param_grid=param_grid, cv=inner_cv, verbose=True, n_jobs=-1, scoring=\"neg_mean_absolute_error\")\n",
    "    clf.fit(X_tr,y_tr, groups=groups_tt)\n",
    "\n",
    "    pred = clf.predict(X_tt)   \n",
    "    pred_y.extend(pred)\n",
    "    true_y.extend(y_tt)\n",
    "    nested_score = metrics.mean_absolute_error(true_y, pred_y)\n",
    "    nested_accuracy = metrics.accuracy_score(true_y, pred_y)\n",
    "    print(nested_score, nested_accuracy)"
   ]
  },
  {
   "cell_type": "code",
   "execution_count": null,
   "metadata": {
    "scrolled": true
   },
   "outputs": [],
   "source": [
    "nested_score = metrics.mean_absolute_error(true_y, pred_y)\n",
    "nested_accuracy = metrics.accuracy_score(true_y, pred_y)"
   ]
  },
  {
   "cell_type": "code",
   "execution_count": null,
   "metadata": {},
   "outputs": [],
   "source": [
    "clf = GridSearchCV(estimator=model, param_grid=param_grid, cv=inner_cv, n_jobs=-1, refit=True, verbose=True, scoring=\"neg_mean_absolute_error\")\n",
    "clf.fit(X_train, y_train, groups=df_train.fname)\n",
    "non_nested_score = -clf.best_score_"
   ]
  },
  {
   "cell_type": "code",
   "execution_count": null,
   "metadata": {},
   "outputs": [],
   "source": [
    "clf.best_params_"
   ]
  },
  {
   "cell_type": "code",
   "execution_count": null,
   "metadata": {},
   "outputs": [],
   "source": [
    "print(\"All predictors\", nested_score, nested_accuracy, non_nested_score)"
   ]
  },
  {
   "cell_type": "code",
   "execution_count": null,
   "metadata": {},
   "outputs": [],
   "source": [
    "X_tr = clf.best_estimator_.selector.transform(X_train)\n",
    "explainer = shap.TreeExplainer(clf.best_estimator_.base_model)\n",
    "shap_values = explainer.shap_values(X_tr)\n",
    "topk = clf.best_estimator_.selector.get_support()\n",
    "shap.summary_plot(shap_values, X_tr, axis_color=\"white\", feature_names=X_train.columns[topk])"
   ]
  },
  {
   "cell_type": "code",
   "execution_count": null,
   "metadata": {},
   "outputs": [],
   "source": [
    "model = model.set_params(**clf.best_params_)\n",
    "df_train['prediction'] = cross_val_predict(model, X_train, y_train, cv=inner_cv, groups=df_train.fname)\n",
    "df_test['prediction'] = clf.predict(df_test[predictors].fillna(0.0))"
   ]
  },
  {
   "cell_type": "code",
   "execution_count": null,
   "metadata": {},
   "outputs": [],
   "source": [
    "def rand_jitter(arr):\n",
    "    stdev = .02 * (max(arr) - min(arr))\n",
    "    return arr + np.random.randn(len(arr)) * stdev"
   ]
  },
  {
   "cell_type": "code",
   "execution_count": null,
   "metadata": {},
   "outputs": [],
   "source": [
    "df_train['prediction_jitter'] = rand_jitter(df_train.prediction)"
   ]
  },
  {
   "cell_type": "code",
   "execution_count": null,
   "metadata": {},
   "outputs": [],
   "source": [
    "df_train.plot.scatter(\"y\", \"prediction_jitter\", figsize=(8, 8))"
   ]
  },
  {
   "cell_type": "code",
   "execution_count": null,
   "metadata": {
    "scrolled": true
   },
   "outputs": [],
   "source": [
    "df_train.corr()['y'].sort_values()"
   ]
  },
  {
   "cell_type": "code",
   "execution_count": null,
   "metadata": {},
   "outputs": [],
   "source": [
    "df_test.prediction.hist()"
   ]
  },
  {
   "cell_type": "code",
   "execution_count": null,
   "metadata": {},
   "outputs": [],
   "source": [
    "df_train.y.hist()"
   ]
  },
  {
   "cell_type": "code",
   "execution_count": null,
   "metadata": {},
   "outputs": [],
   "source": []
  }
 ],
 "metadata": {
  "kernelspec": {
   "display_name": "medicine",
   "language": "python",
   "name": "medicine"
  },
  "language_info": {
   "codemirror_mode": {
    "name": "ipython",
    "version": 3
   },
   "file_extension": ".py",
   "mimetype": "text/x-python",
   "name": "python",
   "nbconvert_exporter": "python",
   "pygments_lexer": "ipython3",
   "version": "3.6.8"
  }
 },
 "nbformat": 4,
 "nbformat_minor": 2
}
